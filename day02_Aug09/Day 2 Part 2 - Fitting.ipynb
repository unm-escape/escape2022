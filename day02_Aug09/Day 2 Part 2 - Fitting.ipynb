{
 "cells": [
  {
   "cell_type": "markdown",
   "metadata": {},
   "source": [
    "# Day 2: GPS data\n",
    "\n",
    "## Fitting a model to data\n",
    "\n",
    "### Day 2 modules includes:\n",
    "1. Making plots\n",
    "2. **Fitting lines**\n",
    "3. Application of GPS timeseries data \n"
   ]
  },
  {
   "cell_type": "markdown",
   "metadata": {},
   "source": [
    "## 1. Fitting a line to data"
   ]
  },
  {
   "cell_type": "markdown",
   "metadata": {},
   "source": [
    "Let's generate some noisy data that loosely follows a line:"
   ]
  },
  {
   "cell_type": "code",
   "execution_count": 2,
   "metadata": {},
   "outputs": [
    {
     "data": {
      "image/png": "[encoded data removed]",
      "text/plain": [
       "<Figure size 576x360 with 1 Axes>"
      ]
     },
     "metadata": {
      "needs_background": "light"
     },
     "output_type": "display_data"
    }
   ],
   "source": [
    "# create some noisy data\n",
    "import numpy as np\n",
    "import matplotlib.pyplot as plt\n",
    "\n",
    "# first, create the time steps along the x axis: every 0.1 years for 4 years\n",
    "x = np.arange(0,4,step=0.1)\n",
    "\n",
    "# generate some noise with the same size as 'x'\n",
    "noise = np.random.normal(size=np.shape(x))\n",
    "\n",
    "# create a 'true' model with parameters a_true and b_true. These are the 'hidden' values we want to know\n",
    "a_true = 5*np.random.rand()\n",
    "b_true = 5*np.random.rand()\n",
    "\n",
    "# create the y-values and add some noise.\n",
    "# Question: how does the data look if you take out the noise?\n",
    "y = a_true + b_true * x + noise\n",
    "\n",
    "plt.figure(figsize=(8,5))\n",
    "plt.plot(x,y,'k.',label='noisy data')\n",
    "plt.legend(loc='lower right')\n",
    "plt.show()"
   ]
  },
  {
   "cell_type": "markdown",
   "metadata": {},
   "source": [
    "#### Assignment: Try to fit the data by hand by guessing the values of a and b until the model looks good."
   ]
  },
  {
   "cell_type": "code",
   "execution_count": 3,
   "metadata": {},
   "outputs": [
    {
     "data": {
      "image/png": "[encoded data removed]",
      "text/plain": [
       "<Figure size 576x360 with 1 Axes>"
      ]
     },
     "metadata": {
      "needs_background": "light"
     },
     "output_type": "display_data"
    }
   ],
   "source": [
    "a=0\n",
    "b=6\n",
    "model = a + b*x\n",
    "\n",
    "plt.figure(figsize=(8,5))\n",
    "plt.plot(x,y,'k.',label='noisy data')\n",
    "plt.plot(x,model,'-r',label='my model')\n",
    "plt.legend(loc='lower right')\n",
    "plt.show()"
   ]
  },
  {
   "cell_type": "markdown",
   "metadata": {},
   "source": [
    "How close did you get?"
   ]
  },
  {
   "cell_type": "code",
   "execution_count": 4,
   "metadata": {},
   "outputs": [
    {
     "name": "stdout",
     "output_type": "stream",
     "text": [
      "I estimated  0  for a, the true value was  2.392405530005275\n",
      "I estimated  6  for b, the true value was  0.3876928052830686\n"
     ]
    }
   ],
   "source": [
    "print(\"I estimated \", a, \" for a, the true value was \", a_true)\n",
    "print(\"I estimated \", b, \" for b, the true value was \", b_true)"
   ]
  },
  {
   "cell_type": "markdown",
   "metadata": {},
   "source": [
    "## 1a. Special: Interactive plots!"
   ]
  },
  {
   "cell_type": "markdown",
   "metadata": {},
   "source": [
    "To run this part, we may need to install a few more things. If the code block below does not work, open up the anaconda prompt (on Windows, search for anaconda prompt from the taskbar; on Linux/Mac, just use a regular terminal window), and run the following commands:\n",
    "\n",
    "    conda install nodejs\n",
    "    conda install -c conda-forge ipywidgets\n",
    "    jupyter labextension install @jupyter-widgets/jupyterlab-manager\n"
   ]
  },
  {
   "cell_type": "code",
   "execution_count": 5,
   "metadata": {},
   "outputs": [
    {
     "name": "stdout",
     "output_type": "stream",
     "text": [
      "73\n",
      "44\n"
     ]
    },
    {
     "data": {
      "application/vnd.jupyter.widget-view+json": {
       "model_id": "b7ce6da10ed04d15b496bd2bb9df75ab",
       "version_major": 2,
       "version_minor": 0
      },
      "text/plain": [
       "interactive(children=(IntSlider(value=20, description='numdata', min=1), FloatSlider(value=2.0, description='a…"
      ]
     },
     "metadata": {},
     "output_type": "display_data"
    }
   ],
   "source": [
    "# import statement for an interactive plot\n",
    "from ipywidgets import interactive\n",
    "import my_interactive_line\n",
    "\n",
    "# we use a random seed to change the random result that we get each time we run the code.\n",
    "# we have to put this outside the function \n",
    "np.random.seed()\n",
    "rseed = np.random.randint(100)\n",
    "print(rseed)\n",
    "\n",
    "def plot_interactive_line(numdata=20, a=2., b=2., noiselevel=2.):\n",
    "\n",
    "    # User-defined model:\n",
    "    xmax=10\n",
    "    x = np.linspace(-xmax, xmax, int(100*xmax))\n",
    "    y = a + b*x\n",
    " \n",
    "    # create random noisy data\n",
    "    # get a random a between (0,5) and b between (0,5)\n",
    "    np.random.seed(rseed)\n",
    "    a_true = -20 + 40 * np.random.rand()\n",
    "    b_true = -5 + 10 * np.random.rand()\n",
    "    \n",
    "    # create some synthetic GPS locations\n",
    "    xdata = np.linspace(-0.9*xmax,0.9*xmax,numdata) + np.random.normal(loc=0,scale=1,size=numdata)\n",
    "    \n",
    "    # create the synthetic model\n",
    "    ymodel = a_true + b_true * xdata\n",
    "    \n",
    "    #add gaussian noise: mean of 0, standard deviation of 'noiselevel'\n",
    "    ynoise = np.random.normal(loc=0,scale=noiselevel,size=numdata)\n",
    "    \n",
    "    #get the final 'observed' data\n",
    "    ydata = ymodel + ynoise\n",
    "    \n",
    "    # compute the model from the input parameters\n",
    "    ydata_predicted = a + b*xdata\n",
    "    \n",
    "    # compute the total misfit ('chi-squared' statistic): \n",
    "    # this is the sum of the misfits, divided by number of data and the data noise\n",
    "    chi_squared = np.sum( (ydata - ydata_predicted)**2 )/(numdata*noiselevel**2)\n",
    "    \n",
    "    # prepare the plot\n",
    "    fig = plt.figure()\n",
    "    ax = fig.add_axes([0, 0, 1, 1])\n",
    "    \n",
    "    # prepare the axes limits\n",
    "    ax.set_xlim((-xmax,xmax))\n",
    "    ax.set_ylim((-50,50))\n",
    "    \n",
    "    #ax.plot(x, y, 'bx')\n",
    "    points = ax.errorbar(xdata, ydata, fmt='ko', yerr=noiselevel, label='Data',capsize=2)\n",
    "    lineref = ax.plot(x, y, 'b-',label = \"Model: a=%.1f, b=%.1f\"%(a,b))\n",
    "    ax.text(-0.9*xmax,-45,'misfit = %.2f'%chi_squared)\n",
    "    \n",
    "    plt.setp(lineref, linewidth=2)\n",
    "    plt.legend()\n",
    "    plt.show()\n",
    "\n",
    "    return a_true, b_true, xdata, ydata\n",
    "\n",
    "\n",
    "# now, we create the interactive plot with the special jupyter commands interactive() and display(). \n",
    "w = interactive(plot_interactive_line, numdata=(1,100), a=(-20.,20.), b=(-5.,5.),noiselevel=(0.5,5.))\n",
    "display(w)"
   ]
  },
  {
   "cell_type": "markdown",
   "metadata": {},
   "source": [
    "How close did you get this time?"
   ]
  },
  {
   "cell_type": "code",
   "execution_count": 6,
   "metadata": {},
   "outputs": [
    {
     "name": "stdout",
     "output_type": "stream",
     "text": [
      "The true value of a was  13.393685946625979\n",
      "The true value of b was  -3.9520389563013025\n"
     ]
    }
   ],
   "source": [
    "print(\"The true value of a was \", w.result[0])\n",
    "print(\"The true value of b was \", w.result[1])"
   ]
  },
  {
   "cell_type": "markdown",
   "metadata": {},
   "source": [
    "## 2. Fitting the data with python automatically\n",
    "\n",
    "Since least-squares fitting is such a common activity, there are nice, easy functions in python to do it. Let's use one:"
   ]
  },
  {
   "cell_type": "code",
   "execution_count": 7,
   "metadata": {},
   "outputs": [],
   "source": [
    "import scipy.optimize"
   ]
  },
  {
   "cell_type": "code",
   "execution_count": 8,
   "metadata": {},
   "outputs": [
    {
     "name": "stdout",
     "output_type": "stream",
     "text": [
      "[2.34803097 0.48466708]\n"
     ]
    },
    {
     "data": {
      "text/plain": [
       "<matplotlib.legend.Legend at 0x7f7f688c79a0>"
      ]
     },
     "execution_count": 8,
     "metadata": {},
     "output_type": "execute_result"
    },
    {
     "data": {
      "image/png": "[encoded data removed]",
      "text/plain": [
       "<Figure size 432x288 with 1 Axes>"
      ]
     },
     "metadata": {
      "needs_background": "light"
     },
     "output_type": "display_data"
    }
   ],
   "source": [
    "# for this method, we define our linear model as a function. \n",
    "# The first argument is the x variable, and\n",
    "# the rest of the arguments are the parameters to fit.\n",
    "\n",
    "def my_line(x,a,b):\n",
    "    return a + b*x\n",
    "\n",
    "# here, p0 is the 'initial guess' for this method. \n",
    "# m is the model output, and mcov is the model covariance, or uncertainties.\n",
    "m,mcov = scipy.optimize.curve_fit(my_line,x,y,p0=[0,0])\n",
    "print(m)\n",
    "\n",
    "y_predicted=my_line(x,m[0],m[1]) \n",
    "\n",
    "plt.plot(x,y,'k.',label='noisy data')\n",
    "plt.plot(x,y_predicted, '-r', label='least-squares fit')\n",
    "plt.legend(loc='lower right')"
   ]
  },
  {
   "cell_type": "markdown",
   "metadata": {},
   "source": [
    "Assignment: here is some data that is not linear! It also has a step function, which we can model using the numpy function np.heaviside(). Can you modify the scipy function to fit all 3 parameters?"
   ]
  },
  {
   "cell_type": "code",
   "execution_count": 9,
   "metadata": {},
   "outputs": [
    {
     "name": "stdout",
     "output_type": "stream",
     "text": [
      "[10.01372353  1.99023374  4.0324359 ]\n"
     ]
    },
    {
     "data": {
      "text/plain": [
       "<matplotlib.legend.Legend at 0x7f7f61d33910>"
      ]
     },
     "execution_count": 9,
     "metadata": {},
     "output_type": "execute_result"
    },
    {
     "data": {
      "image/png": "[encoded data removed]",
      "text/plain": [
       "<Figure size 432x288 with 1 Axes>"
      ]
     },
     "metadata": {
      "needs_background": "light"
     },
     "output_type": "display_data"
    }
   ],
   "source": [
    "# the time of the offset\n",
    "eqtime = 2\n",
    "\n",
    "def my_function(x,a,b,c):\n",
    "    return a + b*x + c*np.heaviside(x-eqtime,0.5)\n",
    "\n",
    "x=np.linspace(0,4,100)\n",
    "\n",
    "# define some 'true' values\n",
    "a_true = 10\n",
    "b_true = 2\n",
    "c_true = 4\n",
    "\n",
    "\n",
    "y_nonoise=my_function(x,a_true,b_true,c_true)\n",
    "y = y_nonoise + np.random.normal(size=np.shape(x))\n",
    "\n",
    "\n",
    "# Work here: use scipy.optimize.curve_fit here to create y_predicted\n",
    "m,mcov = scipy.optimize.curve_fit(my_function,x,y)\n",
    "print(m)\n",
    "y_predicted=my_function(x,a_true,b_true,c_true)\n",
    "\n",
    "\n",
    "plt.plot(x,y,'k.',label='noisy data')\n",
    "\n",
    "# uncomment to make a plot of your result\n",
    "plt.plot(x,y_predicted, '-r', label='least-squares fit')\n",
    "\n",
    "plt.legend(loc='lower right')"
   ]
  },
  {
   "cell_type": "code",
   "execution_count": null,
   "metadata": {},
   "outputs": [],
   "source": []
  },
  {
   "cell_type": "markdown",
   "metadata": {},
   "source": [
    "## Bonus. Fitting a model with linear algebra"
   ]
  },
  {
   "cell_type": "markdown",
   "metadata": {},
   "source": [
    "for the model function y=a*x+b, we can express this in matrix notation as follows:\n",
    "\n",
    "    [y1] = [1  x1]  *  [a]\n",
    "    [y2]   [1  x2]     [b]\n",
    "    [y3]   [1  x3]\n",
    "    [...]  [ ... ]  \n",
    "\n",
    "The matrix on the left is an Nx1 column of the y-values, and on the right we have an Nx2 matrix filled with first a column of ones, and then a column of the x-values, multiplied into the 2x1 matrix with the parameters we want to fit - a and b. The result of multiplying a [Nx2] with [2x1] matrix is [Nx1], so we can see that the matrix dimensions work. \n",
    "\n",
    "We can actually express *any* model that is a linear function of the parameters in this way; in Geophysics this is typically written as solving the problem $Gm=d$, where $G$ is our \"design matrix\" (in this case, filled with ones and x-values), $d$ is our \"data\" matrix of the measured y-values, and $m$ is the model parameters we want to estimate; in this case, the y-intercept $a$ and slope of the line $b$.\n",
    "\n",
    "Using the theorems of linear algebra, we can show that the solution to the matrix problem $Gm=d$ can be written as $m=(G^TG)^{-1}G^Td$. This equation is scary to look at, but in the computer we can work it out pretty quickly.\n"
   ]
  },
  {
   "cell_type": "markdown",
   "metadata": {},
   "source": [
    "#### Step 1. First we create our 'design matrix'. For a linear model, this is a column of ones, next to a column of the x-coordinate of the data:"
   ]
  },
  {
   "cell_type": "code",
   "execution_count": 10,
   "metadata": {},
   "outputs": [
    {
     "name": "stdout",
     "output_type": "stream",
     "text": [
      "[[1.         0.        ]\n",
      " [1.         0.04040404]\n",
      " [1.         0.08080808]\n",
      " [1.         0.12121212]\n",
      " [1.         0.16161616]\n",
      " [1.         0.2020202 ]\n",
      " [1.         0.24242424]\n",
      " [1.         0.28282828]\n",
      " [1.         0.32323232]\n",
      " [1.         0.36363636]\n",
      " [1.         0.4040404 ]\n",
      " [1.         0.44444444]\n",
      " [1.         0.48484848]\n",
      " [1.         0.52525253]\n",
      " [1.         0.56565657]\n",
      " [1.         0.60606061]\n",
      " [1.         0.64646465]\n",
      " [1.         0.68686869]\n",
      " [1.         0.72727273]\n",
      " [1.         0.76767677]\n",
      " [1.         0.80808081]\n",
      " [1.         0.84848485]\n",
      " [1.         0.88888889]\n",
      " [1.         0.92929293]\n",
      " [1.         0.96969697]\n",
      " [1.         1.01010101]\n",
      " [1.         1.05050505]\n",
      " [1.         1.09090909]\n",
      " [1.         1.13131313]\n",
      " [1.         1.17171717]\n",
      " [1.         1.21212121]\n",
      " [1.         1.25252525]\n",
      " [1.         1.29292929]\n",
      " [1.         1.33333333]\n",
      " [1.         1.37373737]\n",
      " [1.         1.41414141]\n",
      " [1.         1.45454545]\n",
      " [1.         1.49494949]\n",
      " [1.         1.53535354]\n",
      " [1.         1.57575758]\n",
      " [1.         1.61616162]\n",
      " [1.         1.65656566]\n",
      " [1.         1.6969697 ]\n",
      " [1.         1.73737374]\n",
      " [1.         1.77777778]\n",
      " [1.         1.81818182]\n",
      " [1.         1.85858586]\n",
      " [1.         1.8989899 ]\n",
      " [1.         1.93939394]\n",
      " [1.         1.97979798]\n",
      " [1.         2.02020202]\n",
      " [1.         2.06060606]\n",
      " [1.         2.1010101 ]\n",
      " [1.         2.14141414]\n",
      " [1.         2.18181818]\n",
      " [1.         2.22222222]\n",
      " [1.         2.26262626]\n",
      " [1.         2.3030303 ]\n",
      " [1.         2.34343434]\n",
      " [1.         2.38383838]\n",
      " [1.         2.42424242]\n",
      " [1.         2.46464646]\n",
      " [1.         2.50505051]\n",
      " [1.         2.54545455]\n",
      " [1.         2.58585859]\n",
      " [1.         2.62626263]\n",
      " [1.         2.66666667]\n",
      " [1.         2.70707071]\n",
      " [1.         2.74747475]\n",
      " [1.         2.78787879]\n",
      " [1.         2.82828283]\n",
      " [1.         2.86868687]\n",
      " [1.         2.90909091]\n",
      " [1.         2.94949495]\n",
      " [1.         2.98989899]\n",
      " [1.         3.03030303]\n",
      " [1.         3.07070707]\n",
      " [1.         3.11111111]\n",
      " [1.         3.15151515]\n",
      " [1.         3.19191919]\n",
      " [1.         3.23232323]\n",
      " [1.         3.27272727]\n",
      " [1.         3.31313131]\n",
      " [1.         3.35353535]\n",
      " [1.         3.39393939]\n",
      " [1.         3.43434343]\n",
      " [1.         3.47474747]\n",
      " [1.         3.51515152]\n",
      " [1.         3.55555556]\n",
      " [1.         3.5959596 ]\n",
      " [1.         3.63636364]\n",
      " [1.         3.67676768]\n",
      " [1.         3.71717172]\n",
      " [1.         3.75757576]\n",
      " [1.         3.7979798 ]\n",
      " [1.         3.83838384]\n",
      " [1.         3.87878788]\n",
      " [1.         3.91919192]\n",
      " [1.         3.95959596]\n",
      " [1.         4.        ]]\n"
     ]
    }
   ],
   "source": [
    "col1 = np.ones(np.shape(x))\n",
    "col2 = x\n",
    "# use np.column_stack to line up arrays as columns in a matrix. There is a similar function for rows, np.row_stack.\n",
    "G = np.column_stack( (col1,col2) )\n",
    "print(G)"
   ]
  },
  {
   "cell_type": "markdown",
   "metadata": {},
   "source": [
    "Assignment: compute the best-fitting line! Recall our equation: \n",
    "\n",
    "$m=(G^TG)^{-1}G^Td$\n",
    "\n",
    "Use the numpy commands for transpose and inverse:\n",
    "\n",
    "    np.transpose()\n",
    "    np.linalg.inv()\n",
    "    \n",
    "And, to multiply matrices, use the .dot() method of numpy arrays, like so:\n",
    "\n",
    "    AtimesB = A.dot(B)\n",
    "\n",
    "Look out for typos, it's a lot to type!"
   ]
  },
  {
   "cell_type": "code",
   "execution_count": 1,
   "metadata": {},
   "outputs": [
    {
     "ename": "NameError",
     "evalue": "name 'm' is not defined",
     "output_type": "error",
     "traceback": [
      "\u001b[0;31m---------------------------------------------------------------------------\u001b[0m",
      "\u001b[0;31mNameError\u001b[0m                                 Traceback (most recent call last)",
      "\u001b[0;32m<ipython-input-1-702511c9094c>\u001b[0m in \u001b[0;36m<module>\u001b[0;34m\u001b[0m\n\u001b[1;32m     16\u001b[0m \u001b[0;34m\u001b[0m\u001b[0m\n\u001b[1;32m     17\u001b[0m \u001b[0;31m# print out the result, and compare to the true values from above.\u001b[0m\u001b[0;34m\u001b[0m\u001b[0;34m\u001b[0m\u001b[0;34m\u001b[0m\u001b[0m\n\u001b[0;32m---> 18\u001b[0;31m \u001b[0mprint\u001b[0m\u001b[0;34m(\u001b[0m\u001b[0mm\u001b[0m\u001b[0;34m)\u001b[0m\u001b[0;34m\u001b[0m\u001b[0;34m\u001b[0m\u001b[0m\n\u001b[0m\u001b[1;32m     19\u001b[0m \u001b[0mprint\u001b[0m\u001b[0;34m(\u001b[0m\u001b[0ma_true\u001b[0m\u001b[0;34m,\u001b[0m\u001b[0mb_true\u001b[0m\u001b[0;34m)\u001b[0m\u001b[0;34m\u001b[0m\u001b[0;34m\u001b[0m\u001b[0m\n",
      "\u001b[0;31mNameError\u001b[0m: name 'm' is not defined"
     ]
    }
   ],
   "source": [
    "# solve the equation m = (G^T * G)^-1 * G^T *d\n",
    "# step 1: define a new variable GT as the transpose of G\n",
    "\n",
    "\n",
    "# step 2: define GTG as GT * G\n",
    "\n",
    "\n",
    "# step 3: define GTGinv as GTG^-1\n",
    "\n",
    "\n",
    "# step 4: GTGInvGT = GTGInv * GT\n",
    "\n",
    "\n",
    "#step 5: get the final result, m, as GTGinvGT * y.\n",
    "\n",
    "\n",
    "# print out the result, and compare to the true values from above.\n",
    "print(m)\n",
    "print(a_true,b_true)"
   ]
  },
  {
   "cell_type": "markdown",
   "metadata": {},
   "source": [
    "Note, these values should be pretty close to our true values but not exactly - this is because we added noise! In general, the presence of noise means we will never be able to exactly measure the **true model** values. \n",
    "\n",
    "Now, let's plot the model on top of the data and see how it fits. Remember, we can get our \"predicted\" data (y-values of the model) with the equation $d = G * m$"
   ]
  },
  {
   "cell_type": "code",
   "execution_count": 2,
   "metadata": {},
   "outputs": [
    {
     "ename": "SyntaxError",
     "evalue": "invalid syntax (<ipython-input-2-cf354579c07d>, line 1)",
     "output_type": "error",
     "traceback": [
      "\u001b[0;36m  File \u001b[0;32m\"<ipython-input-2-cf354579c07d>\"\u001b[0;36m, line \u001b[0;32m1\u001b[0m\n\u001b[0;31m    data_predicted =\u001b[0m\n\u001b[0m                     ^\u001b[0m\n\u001b[0;31mSyntaxError\u001b[0m\u001b[0;31m:\u001b[0m invalid syntax\n"
     ]
    }
   ],
   "source": [
    "data_predicted = \n",
    "\n",
    "plt.figure(figsize=(8,5))\n",
    "plt.plot(x,y,'k.',label='noisy data')\n",
    "plt.plot(x,data_predicted, '-r', label='least-squares fit')\n",
    "plt.legend(loc='lower right')"
   ]
  },
  {
   "cell_type": "code",
   "execution_count": null,
   "metadata": {},
   "outputs": [],
   "source": []
  }
 ],
 "metadata": {
  "kernelspec": {
   "display_name": "Python 3",
   "language": "python",
   "name": "python3"
  },
  "language_info": {
   "codemirror_mode": {
    "name": "ipython",
    "version": 3
   },
   "file_extension": ".py",
   "mimetype": "text/x-python",
   "name": "python",
   "nbconvert_exporter": "python",
   "pygments_lexer": "ipython3",
   "version": "3.8.8"
  }
 },
 "nbformat": 4,
 "nbformat_minor": 4
}
