{
 "cells": [
  {
   "cell_type": "markdown",
   "id": "animated-surgeon",
   "metadata": {},
   "source": [
    "# Day 2: GPS data\n",
    "\n",
    "## Loading & plotting timeseries data and fitting a line to it\n",
    "\n",
    "### Day 2 modules includes:\n",
    "1. Making plots \n",
    "2. Fitting lines\n",
    "3. **Application of GPS timeseries data PART II**"
   ]
  },
  {
   "cell_type": "markdown",
   "id": "representative-logging",
   "metadata": {},
   "source": [
    "### Prior to running this section, you should have the several files in the path\n",
    "- GPS data (in .pos format) for the earthquake\n",
    "- Lecture on earthquake signals\n",
    "\n",
    "##### Geting gps data from UNAVCO [https://data.unavco.org/archive/gnss/products/position/]\n",
    "- Get .pos GPS data from this link\n",
    "- First, identify the station(s) you want from this [link](https://www.unavco.org/data/gps-gnss/data-access-methods/gnss-data-access-notebook/gnss-data-access-notebook.html), and choose the dates \n",
    "- Second, you will can unselect all the boxes in **RINEX** and select all the boxes in **POSITION**\n",
    "- Lastly, download the data using the first [link](https://data.unavco.org/archive/gnss/products/position/)\n",
    "\n",
    "*Ensure the location of the file saved can be identified*\n",
    "\n",
    "\n",
    "##### (Not used for ESCAPE2022) Getting GPS data from MAGNET [http://geodesy.unr.edu/NGLStationPages/gpsnetmap/GPSNetMap.html]\n",
    "- You will copy all the data and put it in excel\n",
    "- Under \"**data**\", select \"Text to Columns\" and choose \"delimited\" based on the seperation types\n"
   ]
  },
  {
   "cell_type": "markdown",
   "id": "1c55ea07",
   "metadata": {},
   "source": [
    "### Pre-processing"
   ]
  },
  {
   "cell_type": "code",
   "execution_count": 76,
   "id": "2c57958e",
   "metadata": {},
   "outputs": [],
   "source": [
    "# import packages from library \n"
   ]
  },
  {
   "cell_type": "markdown",
   "id": "experimental-produce",
   "metadata": {},
   "source": [
    "Check your path is linked to the files or in the correct folder"
   ]
  },
  {
   "cell_type": "code",
   "execution_count": 77,
   "id": "false-fifteen",
   "metadata": {},
   "outputs": [
    {
     "data": {
      "text/plain": [
       "'/Users/chongjh11/OneDrive - University of New Mexico/Doctoral/Courses/ESCAPE/Day 2'"
      ]
     },
     "execution_count": 77,
     "metadata": {},
     "output_type": "execute_result"
    }
   ],
   "source": [
    "pwd"
   ]
  },
  {
   "cell_type": "markdown",
   "id": "ee92cf78",
   "metadata": {},
   "source": [
    "Check what's inside this directory"
   ]
  },
  {
   "cell_type": "code",
   "execution_count": 4,
   "id": "25f928f1",
   "metadata": {},
   "outputs": [
    {
     "name": "stdout",
     "output_type": "stream",
     "text": [
      "23228_1111_hrp.csv\r\n",
      "23228_1111_hrp.txt\r\n",
      "AB21.cwu.final_nam14.pos\r\n",
      "AC21.csv\r\n",
      "CCCC.cwu.nam14.pos\r\n",
      "Day 2 Part 1 - Plots.ipynb\r\n",
      "Day 2 Part 2 - Fitting Instructor.ipynb\r\n",
      "Day 2 Part 2 - Fitting.ipynb\r\n",
      "Day 2 Part 3 - Application #1 Instructor.ipynb\r\n",
      "Day 2 Part 3 - Application #1.ipynb\r\n",
      "Day 2 Part 3 - Application #2 Instructor.ipynb\r\n",
      "Day 2 Part 3 - Application #2.ipynb\r\n",
      "Day 2 Part 3 - Application - Old.ipynb\r\n",
      "HEHO.eos.final_itr14.pos\r\n",
      "\u001b[34m__pycache__\u001b[m\u001b[m/\r\n",
      "heho.png\r\n",
      "my_interactive_line.py\r\n",
      "read_data.py\r\n",
      "tides.pdf\r\n"
     ]
    }
   ],
   "source": [
    "ls"
   ]
  },
  {
   "cell_type": "markdown",
   "id": "38bb55d9",
   "metadata": {},
   "source": [
    "### Reading GPS data "
   ]
  },
  {
   "cell_type": "code",
   "execution_count": 79,
   "id": "d7f2bc85",
   "metadata": {},
   "outputs": [
    {
     "data": {
      "text/plain": [
       "Index(['*YYYYMMDD', 'DecYr', 'JJJJJ.JJJJ', 'X', 'Y', 'Z', 'Sx', 'Sy', 'Sz',\n",
       "       'Rxy', 'Rxz', 'Ryz', 'NLat', 'Elong', 'Height', 'dN', 'dE', 'dU', 'Sn',\n",
       "       'Se', 'Su', 'Rne', 'Rnu', 'Reu', 'Soln'],\n",
       "      dtype='object')"
      ]
     },
     "execution_count": 79,
     "metadata": {},
     "output_type": "execute_result"
    }
   ],
   "source": [
    "# Load the GPS data for the earthquake\n",
    "import read_data\n"
   ]
  },
  {
   "cell_type": "code",
   "execution_count": 80,
   "id": "eleven-amplifier",
   "metadata": {},
   "outputs": [
    {
     "data": {
      "text/plain": [
       "<matplotlib.legend.Legend at 0x7fc939be3490>"
      ]
     },
     "execution_count": 80,
     "metadata": {},
     "output_type": "execute_result"
    },
    {
     "data": {
      "image/png": "[encoded data removed]",
      "text/plain": [
       "<Figure size 432x288 with 1 Axes>"
      ]
     },
     "metadata": {
      "needs_background": "light"
     },
     "output_type": "display_data"
    }
   ],
   "source": [
    "# Make basic single plot in one figure here\n",
    "\n",
    "# defining the x and y \n",
    "\n",
    "# plot here\n",
    "\n",
    "# labels, title, and legend here\n",
    "\n",
    "# play with xlim closer to the offset\n"
   ]
  },
  {
   "cell_type": "markdown",
   "id": "orange-chemical",
   "metadata": {},
   "source": [
    "#### Bonus questions\n",
    "- How do you read the signals? What does it mean to go negative?\n",
    "- How many earthquake signals can you see?"
   ]
  },
  {
   "cell_type": "code",
   "execution_count": 1,
   "id": "undefined-trace",
   "metadata": {},
   "outputs": [],
   "source": [
    "# Plot all GPS displacements with lines in a figure \n",
    "\n",
    "plt.figure() # change the width and height using figsize (make a wider plot)\n"
   ]
  },
  {
   "cell_type": "code",
   "execution_count": 3,
   "id": "skilled-bottom",
   "metadata": {},
   "outputs": [],
   "source": [
    "# Plot a figure with 3 subplots using plt.errorbar\n",
    "\n",
    "# title and label them accordingly\n"
   ]
  },
  {
   "cell_type": "markdown",
   "id": "regional-booking",
   "metadata": {},
   "source": [
    "#### Bonus questions\n",
    "1. Why does the vertical GPS not go down/up in this station during the earthquake?\n",
    "2. Can you figure out what's the final movement of the GPS? \n",
    "3. What are the impacts of the this coseismic \"movement\"?"
   ]
  },
  {
   "cell_type": "markdown",
   "id": "packed-electric",
   "metadata": {},
   "source": [
    "## Line fitting for GPS data"
   ]
  },
  {
   "cell_type": "markdown",
   "id": "1b0efcaa",
   "metadata": {},
   "source": [
    "Find the long-term rate for each components (e,n,u) and find the coseismic offset for the largest earthquake"
   ]
  },
  {
   "cell_type": "code",
   "execution_count": 7,
   "id": "focused-raising",
   "metadata": {},
   "outputs": [],
   "source": [
    "# import packages\n",
    "\n",
    "# Equation here \n",
    "eqtime = 0 # the time of the offset (check your units)\n",
    "\n",
    "def my_function(x,a,b,c):\n",
    "    return a + b*x + c*np.heaviside(x-eqtime,0.5)\n",
    "\n",
    "# do the plot - test with different line properties to best visualize them\n",
    "\n",
    "# Display the values of a,b,c using print\n",
    "\n",
    "# Now find the coseismic displacement for all 3 displacements (plot data and fitting in subplots )\n",
    "# give labels and title - try changing the fontsize too\n"
   ]
  },
  {
   "cell_type": "code",
   "execution_count": 10,
   "id": "592b21e4",
   "metadata": {},
   "outputs": [
    {
     "ename": "NameError",
     "evalue": "name 'Se' is not defined",
     "output_type": "error",
     "traceback": [
      "\u001b[0;31m---------------------------------------------------------------------------\u001b[0m",
      "\u001b[0;31mNameError\u001b[0m                                 Traceback (most recent call last)",
      "\u001b[0;32m<ipython-input-10-65e7720c30d9>\u001b[0m in \u001b[0;36m<module>\u001b[0;34m\u001b[0m\n\u001b[1;32m      1\u001b[0m \u001b[0;31m# Remove outliers based on standard deviation (uncertainty)\u001b[0m\u001b[0;34m\u001b[0m\u001b[0;34m\u001b[0m\u001b[0;34m\u001b[0m\u001b[0m\n\u001b[1;32m      2\u001b[0m \u001b[0;34m\u001b[0m\u001b[0m\n\u001b[0;32m----> 3\u001b[0;31m \u001b[0mnp\u001b[0m\u001b[0;34m.\u001b[0m\u001b[0mmax_S\u001b[0m \u001b[0;34m=\u001b[0m \u001b[0mmax\u001b[0m\u001b[0;34m(\u001b[0m\u001b[0mSe\u001b[0m\u001b[0;34m)\u001b[0m\u001b[0;34m\u001b[0m\u001b[0;34m\u001b[0m\u001b[0m\n\u001b[0m\u001b[1;32m      4\u001b[0m \u001b[0mnp\u001b[0m\u001b[0;34m.\u001b[0m\u001b[0mmean_S\u001b[0m \u001b[0;34m=\u001b[0m \u001b[0mmean\u001b[0m\u001b[0;34m(\u001b[0m\u001b[0mSe\u001b[0m\u001b[0;34m)\u001b[0m\u001b[0;34m\u001b[0m\u001b[0;34m\u001b[0m\u001b[0m\n",
      "\u001b[0;31mNameError\u001b[0m: name 'Se' is not defined"
     ]
    }
   ],
   "source": [
    "# Remove outliers based on standard deviation (uncertainty)\n",
    "# we want to keep displacements less than a threshold\n"
   ]
  },
  {
   "cell_type": "markdown",
   "id": "7b4f7548",
   "metadata": {},
   "source": [
    "#### Bonus assignment\n",
    "1. Are there more efficient ways to plot all 3 using fewer lines of codes? Or are there an easier way to plot >1 GPS stations?\n",
    "2. Zoom into 2019.5 to 2020, did you notice a non-linear decay? What terms can we add to predict this?\n"
   ]
  },
  {
   "cell_type": "code",
   "execution_count": null,
   "id": "9bcf69a9",
   "metadata": {},
   "outputs": [],
   "source": []
  }
 ],
 "metadata": {
  "kernelspec": {
   "display_name": "Python 3",
   "language": "python",
   "name": "python3"
  },
  "language_info": {
   "codemirror_mode": {
    "name": "ipython",
    "version": 3
   },
   "file_extension": ".py",
   "mimetype": "text/x-python",
   "name": "python",
   "nbconvert_exporter": "python",
   "pygments_lexer": "ipython3",
   "version": "3.8.8"
  }
 },
 "nbformat": 4,
 "nbformat_minor": 5
}
