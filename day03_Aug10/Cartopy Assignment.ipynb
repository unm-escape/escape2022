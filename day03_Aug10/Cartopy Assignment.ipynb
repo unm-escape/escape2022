{
 "cells": [
  {
   "cell_type": "markdown",
   "id": "3111691b",
   "metadata": {},
   "source": [
    "## Assignment for Cartopy\n",
    "\n",
    "### Objective\n",
    "Make a map of your region of interest (Alaska) with your GPS data using the following guides:"
   ]
  },
  {
   "cell_type": "code",
   "execution_count": 1,
   "id": "e609aa6d",
   "metadata": {},
   "outputs": [],
   "source": [
    "# Import packages"
   ]
  },
  {
   "cell_type": "markdown",
   "id": "b2f856d2",
   "metadata": {},
   "source": [
    "### Part 1\n",
    "#### Showing a location of interest on a global map in different projections"
   ]
  },
  {
   "cell_type": "code",
   "execution_count": 10,
   "id": "30bf6dd9",
   "metadata": {},
   "outputs": [],
   "source": [
    "# Compare maps with different projections (e.g., Left subplot: NearsidePerspective, Right subplot: AzimuthalEquidistant) \n",
    "## Use subplot (side by side horizontally) to compare the different projections \n",
    "\n",
    "plt.figure(figsize = (8,10))\n",
    "\n",
    "ax1 = plt.subplot(1, 2, 1, projection=ccrs.PlateCarree(-150)) # longitude of Anchorage (150 degrees west)\n",
    "\n",
    "ax2 = \n",
    "\n",
    "## Plot a star of Anchorage in both subplots\n",
    "\n",
    "## add all necessary properties for a map (e.g., title, labels, etc)\n",
    "\n",
    "# save the figure "
   ]
  },
  {
   "cell_type": "markdown",
   "id": "ebe91a65",
   "metadata": {},
   "source": [
    "### Part 2\n",
    "#### Plotting your area of interest with GPS vectors"
   ]
  },
  {
   "cell_type": "code",
   "execution_count": 16,
   "id": "fd5e0c40",
   "metadata": {},
   "outputs": [
    {
     "ename": "NameError",
     "evalue": "name 'pd' is not defined",
     "output_type": "error",
     "traceback": [
      "\u001b[0;31m---------------------------------------------------------------------------\u001b[0m",
      "\u001b[0;31mNameError\u001b[0m                                 Traceback (most recent call last)",
      "\u001b[0;32m<ipython-input-16-5214f37f17c1>\u001b[0m in \u001b[0;36m<module>\u001b[0;34m\u001b[0m\n\u001b[1;32m      1\u001b[0m \u001b[0;31m# Load GPS data\u001b[0m\u001b[0;34m\u001b[0m\u001b[0;34m\u001b[0m\u001b[0;34m\u001b[0m\u001b[0m\n\u001b[1;32m      2\u001b[0m \u001b[0;31m# The alaska format is slightly different than the demo (use print or check the columns)\u001b[0m\u001b[0;34m\u001b[0m\u001b[0;34m\u001b[0m\u001b[0;34m\u001b[0m\u001b[0m\n\u001b[0;32m----> 3\u001b[0;31m \u001b[0mdatafile\u001b[0m \u001b[0;34m=\u001b[0m \u001b[0mpd\u001b[0m\u001b[0;34m.\u001b[0m\u001b[0mread_csv\u001b[0m\u001b[0;34m(\u001b[0m\u001b[0;34m'GPS_Alaska2021.csv'\u001b[0m\u001b[0;34m)\u001b[0m\u001b[0;34m;\u001b[0m\u001b[0;34m\u001b[0m\u001b[0;34m\u001b[0m\u001b[0m\n\u001b[0m\u001b[1;32m      4\u001b[0m \u001b[0;34m\u001b[0m\u001b[0m\n\u001b[1;32m      5\u001b[0m \u001b[0;31m# define variables\u001b[0m\u001b[0;34m\u001b[0m\u001b[0;34m\u001b[0m\u001b[0;34m\u001b[0m\u001b[0m\n",
      "\u001b[0;31mNameError\u001b[0m: name 'pd' is not defined"
     ]
    }
   ],
   "source": [
    "# Load GPS data\n",
    "# The alaska format is slightly different than the demo (use print or check the columns)\n",
    "datafile = pd.read_csv('GPS_Alaska2021.csv');\n",
    "\n",
    "\n",
    "# define variables for X, Y, E, N"
   ]
  },
  {
   "cell_type": "code",
   "execution_count": null,
   "id": "b79f631a",
   "metadata": {},
   "outputs": [],
   "source": [
    "# define quiver function (copy from demo)"
   ]
  },
  {
   "cell_type": "code",
   "execution_count": 12,
   "id": "3a4a17bd",
   "metadata": {},
   "outputs": [],
   "source": [
    "# Make a map extent of your region of interests using set_extent([x0,y0,x1,y1]) within the axes\n",
    "\n",
    "# include stamen terrain in your map, boundaries (state/national), coastlines\n",
    "\n",
    "# plot GPS vectors from your own or given data (identify properties for presentable arrows)\n",
    "\n",
    "# Adding earthquakes (https://earthquake.usgs.gov/earthquakes/search/)\n",
    "# Add the mainshock of the 2021 Alaska earthquakes - using ax.scatter\n",
    "# make edgecolors to red; color to yellow\n",
    "epicenter = [-157.888, 55.364]\n",
    "ax.scatter(x,y, transform=ccrs.PlateCarree(), marker='*', c='yellow', edgecolors='red', s=300.0, linewidths=1.0, label='Chignik Earthquake')\n",
    "\n",
    "# Only plot left and bottom gridlabels\n",
    "\n",
    "# [Optional] make an inset - will be guided by instructor\n",
    "# [Optional] plot the aftershocks - will be guided by instructor\n",
    "# [Optional] Try plotting CCCC's quiver with a different color the aftershocks - will be guided by instructor\n",
    "\n",
    "\n",
    "# save figure\n"
   ]
  },
  {
   "cell_type": "markdown",
   "id": "2d5b4799",
   "metadata": {},
   "source": [
    "### [Optional] Part 3\n",
    "#### Plotting both maps and GPS vectors together\n",
    "\n",
    "Example question solved in forum [link](https://stackoverflow.com/questions/61433850/combination-of-normal-and-cartopy-subplots-within-the-same-figure)"
   ]
  },
  {
   "cell_type": "code",
   "execution_count": 9,
   "id": "006dac98",
   "metadata": {},
   "outputs": [],
   "source": [
    "# Plot GPS time-series in a series of subplots to the right of the map (1 big figure on the left and 3 subplots on the right)\n",
    "\n",
    "# Define your subplots\n",
    "\n",
    "# Make your map here\n",
    "\n",
    "# Make your gps plots here\n",
    "\n",
    "# Lastly, add titles, xlabel and ylabel (only one side for each axis), inset\n",
    "\n",
    "# Save the figure as png"
   ]
  },
  {
   "cell_type": "markdown",
   "id": "61b2a314",
   "metadata": {},
   "source": [
    "##### [Optional] Adding shapefile of the surface rupture (https://www.sciencebase.gov/catalog/item/5ef132f282ced62aaae18faa)"
   ]
  },
  {
   "cell_type": "code",
   "execution_count": null,
   "id": "3d769515",
   "metadata": {},
   "outputs": [],
   "source": [
    "# Plot map with shapefile here"
   ]
  }
 ],
 "metadata": {
  "kernelspec": {
   "display_name": "Python 3",
   "language": "python",
   "name": "python3"
  },
  "language_info": {
   "codemirror_mode": {
    "name": "ipython",
    "version": 3
   },
   "file_extension": ".py",
   "mimetype": "text/x-python",
   "name": "python",
   "nbconvert_exporter": "python",
   "pygments_lexer": "ipython3",
   "version": "3.8.8"
  }
 },
 "nbformat": 4,
 "nbformat_minor": 5
}
