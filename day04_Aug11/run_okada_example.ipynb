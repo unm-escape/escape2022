{
 "cells": [
  {
   "cell_type": "markdown",
   "metadata": {},
   "source": [
    "# Okada example"
   ]
  },
  {
   "cell_type": "code",
   "execution_count": 1,
   "metadata": {},
   "outputs": [],
   "source": [
    "# #these two lines make sure our function will get re-loaded if it changes\n",
    "# %load_ext autoreload\n",
    "# %autoreload 2"
   ]
  },
  {
   "cell_type": "code",
   "execution_count": 4,
   "metadata": {},
   "outputs": [
    {
     "data": {
      "application/vnd.jupyter.widget-view+json": {
       "model_id": "7acd90d3c9694d3686e79b29bbd9a0e7",
       "version_major": 2,
       "version_minor": 0
      },
      "text/plain": [
       "Canvas(toolbar=Toolbar(toolitems=[('Home', 'Reset original view', 'home', 'home'), ('Back', 'Back to previous …"
      ]
     },
     "metadata": {},
     "output_type": "display_data"
    },
    {
     "name": "stdout",
     "output_type": "stream",
     "text": [
      "[20.00273051]\n",
      "<matplotlib.collections.PolyCollection object at 0x7fc3b93d97c0>\n"
     ]
    },
    {
     "data": {
      "text/plain": [
       "<matplotlib.legend.Legend at 0x7fc3b93ff430>"
      ]
     },
     "execution_count": 4,
     "metadata": {},
     "output_type": "execute_result"
    }
   ],
   "source": [
    "# Eric Lindsey, 04/2016\n",
    "\n",
    "# standard imports\n",
    "import numpy as np\n",
    "import matplotlib.pyplot as plt\n",
    "\n",
    "# user-defined functions\n",
    "import fault_model\n",
    "import fault_plots\n",
    "\n",
    "\n",
    "# conda/jupyter installations to enable interactive plots:\n",
    "#\n",
    "# conda install -c conda-forge ipympl\n",
    "# conda install nodejs\n",
    "# sudo chown -R $USER:$(id -gn $USER) /Users/elindsey/.config\n",
    "# jupyter labextension install @jupyter-widgets/jupyterlab-manager (must run again, even if installed before)\n",
    "# jupyter labextension install jupyter-matplotlib\n",
    "#\n",
    "%matplotlib widget\n",
    "\n",
    "# some random GPS locations\n",
    "gpslon=95+np.random.normal(0,.5,size=20)\n",
    "gpslat=20+np.random.normal(0,.5,size=20)\n",
    "gpshgt=0*gpslon\n",
    "\n",
    "# create a fault model\n",
    "Fmod=fault_model.FaultModel()\n",
    "Fmod.create_planar_model(latcorner=19.05,loncorner=95.5,depthcorner=1e3,\n",
    "                         strike=-45,dip=10,\n",
    "                         L=200e3,W=100e3,nL=1,nW=1)\n",
    "\n",
    "# plot the fault model and GPS\n",
    "Fplot = fault_plots.FaultPlot2D()\n",
    "Fplot.plot_symbols(gpslon,gpslat,'r^',label='GPS')\n",
    "Fplot.plot_slip_patches(Fmodel=Fmod,slip=Fmod.depth)\n",
    "Fplot.set_lims(xlims=[94,96],ylims=[19,21])\n",
    "ax = Fplot.get_ax()\n",
    "ax.set_title('Depth in meters')\n",
    "ax.legend()"
   ]
  },
  {
   "cell_type": "code",
   "execution_count": 2,
   "metadata": {},
   "outputs": [
    {
     "data": {
      "application/vnd.jupyter.widget-view+json": {
       "model_id": "c228bd6444af49c79b234a8c454b64d1",
       "version_major": 2,
       "version_minor": 0
      },
      "text/plain": [
       "Canvas(toolbar=Toolbar(toolitems=[('Home', 'Reset original view', 'home', 'home'), ('Back', 'Back to previous …"
      ]
     },
     "metadata": {},
     "output_type": "display_data"
    },
    {
     "name": "stdout",
     "output_type": "stream",
     "text": [
      "[19.1133847  19.17627191 19.23913434 19.3019716  19.36478327 19.42756896\n",
      " 19.49032826 19.55306077 19.61576608 19.67844379 19.17724148 19.24015217\n",
      " 19.30303803 19.36589863 19.42873359 19.49154249 19.55432493 19.61708051\n",
      " 19.67980882 19.74250946 19.2410727  19.30400682 19.36691602 19.42979991\n",
      " 19.49265808 19.55549012 19.61829563 19.68107421 19.74382545 19.80654894\n",
      " 19.30487795 19.36783541 19.4307679  19.493675   19.55655631 19.61941142\n",
      " 19.68223993 19.74504144 19.80781554 19.87056182 19.3686568  19.43163754\n",
      " 19.49459324 19.55752348 19.62042786 19.68330597 19.74615741 19.80898178\n",
      " 19.87177867 19.93454767 19.43240883 19.49541278 19.55839161 19.62134492\n",
      " 19.6842723  19.74717334 19.81004764 19.8728948  19.93571441 19.99850606\n",
      " 19.49613361 19.55916069 19.62216259 19.6851389  19.74808921 19.81101311\n",
      " 19.8739102  19.93678008 19.99962234 20.06243658 19.55983073 19.62288087\n",
      " 19.68590577 19.748905   19.81187816 19.87482485 19.93774467 20.0006372\n",
      " 20.06350204 20.12633879 19.62349975 19.68657289 19.74962071 19.81264279\n",
      " 19.87563874 19.93860815 20.00155061 20.06446572 20.12735307 20.19021226\n",
      " 19.68714027 19.75023632 19.81330699 19.87635186 19.93937052 20.00236258\n",
      " 20.06532762 20.12826523 20.19117503 20.25405659 19.75075186 19.81387075\n",
      " 19.87696419 19.94003177 20.00307308 20.06608771 20.12907525 20.19203531\n",
      " 20.25496747 20.31787133 19.81433409 19.87747576 19.9405919  20.00368211\n",
      " 20.06674599 20.12978312 20.1927931  20.25577552 20.31872998 20.38165607\n",
      " 19.87788655 19.94105091 20.00418969 20.06730246 20.13038884 20.1934484\n",
      " 20.25648074 20.31948546 20.38246214 20.44541039 19.94140881 20.0045958\n",
      " 20.06775713 20.1308924  20.1940012  20.25708311 20.32013775 20.38316469\n",
      " 20.44616353 20.50913387 20.00490046 20.06811    20.13129381 20.1944515\n",
      " 20.25758265 20.32068685 20.3837637  20.44681279 20.50983372 20.57282607\n",
      " 20.06836108 20.13159309 20.19479931 20.25797934 20.32113277 20.38425918\n",
      " 20.44735818 20.51042935 20.57347229 20.63648659 20.13179024 20.19504465\n",
      " 20.25827321 20.32147551 20.38465114 20.4477997  20.51092077 20.57401394\n",
      " 20.63707882 20.70011499 20.19518754 20.25846427 20.3217151  20.38493959\n",
      " 20.44813735 20.51130797 20.57445104 20.63756615 20.70065289 20.76371086\n",
      " 20.25855254 20.32185153 20.38512454 20.44837115 20.51159097 20.57478358\n",
      " 20.63794857 20.70108554 20.76419408 20.82727378 20.32188485 20.38520601\n",
      " 20.44850113 20.51176979 20.57501159 20.63822611 20.70141296 20.76457171\n",
      " 20.82770198 20.89080333]\n"
     ]
    },
    {
     "data": {
      "text/plain": [
       "<matplotlib.legend.Legend at 0x7fc378a54f40>"
      ]
     },
     "execution_count": 2,
     "metadata": {},
     "output_type": "execute_result"
    }
   ],
   "source": [
    "\n",
    "# plot the fault model and GPS - in 3D\n",
    "Fplot = fault_plots.FaultPlot3D()\n",
    "Fplot.plot_slip_patches(Fmodel=Fmod,slip=Fmod.depth)\n",
    "Fplot.plot_symbols(gpslon,gpslat,'bx',label='GPS')\n",
    "Fplot.set_lims(xlims=[94,96],ylims=[19,21], zlims=[0,50])\n",
    "ax = Fplot.get_ax()\n",
    "ax.set_title('Depth in meters')\n",
    "ax.legend()"
   ]
  },
  {
   "cell_type": "code",
   "execution_count": 3,
   "metadata": {},
   "outputs": [
    {
     "name": "stdout",
     "output_type": "stream",
     "text": [
      "(60, 400)\n",
      "(60,)\n"
     ]
    },
    {
     "data": {
      "application/vnd.jupyter.widget-view+json": {
       "model_id": "651f85dad57641ae8fabde6de89e61f8",
       "version_major": 2,
       "version_minor": 0
      },
      "text/plain": [
       "Canvas(toolbar=Toolbar(toolitems=[('Home', 'Reset original view', 'home', 'home'), ('Back', 'Back to previous …"
      ]
     },
     "metadata": {},
     "output_type": "display_data"
    },
    {
     "name": "stdout",
     "output_type": "stream",
     "text": [
      "[19.1133847  19.17627191 19.23913434 19.3019716  19.36478327 19.42756896\n",
      " 19.49032826 19.55306077 19.61576608 19.67844379 19.17724148 19.24015217\n",
      " 19.30303803 19.36589863 19.42873359 19.49154249 19.55432493 19.61708051\n",
      " 19.67980882 19.74250946 19.2410727  19.30400682 19.36691602 19.42979991\n",
      " 19.49265808 19.55549012 19.61829563 19.68107421 19.74382545 19.80654894\n",
      " 19.30487795 19.36783541 19.4307679  19.493675   19.55655631 19.61941142\n",
      " 19.68223993 19.74504144 19.80781554 19.87056182 19.3686568  19.43163754\n",
      " 19.49459324 19.55752348 19.62042786 19.68330597 19.74615741 19.80898178\n",
      " 19.87177867 19.93454767 19.43240883 19.49541278 19.55839161 19.62134492\n",
      " 19.6842723  19.74717334 19.81004764 19.8728948  19.93571441 19.99850606\n",
      " 19.49613361 19.55916069 19.62216259 19.6851389  19.74808921 19.81101311\n",
      " 19.8739102  19.93678008 19.99962234 20.06243658 19.55983073 19.62288087\n",
      " 19.68590577 19.748905   19.81187816 19.87482485 19.93774467 20.0006372\n",
      " 20.06350204 20.12633879 19.62349975 19.68657289 19.74962071 19.81264279\n",
      " 19.87563874 19.93860815 20.00155061 20.06446572 20.12735307 20.19021226\n",
      " 19.68714027 19.75023632 19.81330699 19.87635186 19.93937052 20.00236258\n",
      " 20.06532762 20.12826523 20.19117503 20.25405659 19.75075186 19.81387075\n",
      " 19.87696419 19.94003177 20.00307308 20.06608771 20.12907525 20.19203531\n",
      " 20.25496747 20.31787133 19.81433409 19.87747576 19.9405919  20.00368211\n",
      " 20.06674599 20.12978312 20.1927931  20.25577552 20.31872998 20.38165607\n",
      " 19.87788655 19.94105091 20.00418969 20.06730246 20.13038884 20.1934484\n",
      " 20.25648074 20.31948546 20.38246214 20.44541039 19.94140881 20.0045958\n",
      " 20.06775713 20.1308924  20.1940012  20.25708311 20.32013775 20.38316469\n",
      " 20.44616353 20.50913387 20.00490046 20.06811    20.13129381 20.1944515\n",
      " 20.25758265 20.32068685 20.3837637  20.44681279 20.50983372 20.57282607\n",
      " 20.06836108 20.13159309 20.19479931 20.25797934 20.32113277 20.38425918\n",
      " 20.44735818 20.51042935 20.57347229 20.63648659 20.13179024 20.19504465\n",
      " 20.25827321 20.32147551 20.38465114 20.4477997  20.51092077 20.57401394\n",
      " 20.63707882 20.70011499 20.19518754 20.25846427 20.3217151  20.38493959\n",
      " 20.44813735 20.51130797 20.57445104 20.63756615 20.70065289 20.76371086\n",
      " 20.25855254 20.32185153 20.38512454 20.44837115 20.51159097 20.57478358\n",
      " 20.63794857 20.70108554 20.76419408 20.82727378 20.32188485 20.38520601\n",
      " 20.44850113 20.51176979 20.57501159 20.63822611 20.70141296 20.76457171\n",
      " 20.82770198 20.89080333]\n",
      "<matplotlib.collections.PolyCollection object at 0x7fc3887f2160>\n"
     ]
    },
    {
     "data": {
      "text/plain": [
       "<matplotlib.legend.Legend at 0x7fc3c81a3f40>"
      ]
     },
     "execution_count": 3,
     "metadata": {},
     "output_type": "execute_result"
    }
   ],
   "source": [
    "# create an elliptical synthetic slip patch\n",
    "lon0=95\n",
    "lat0=20\n",
    "\n",
    "# dip slip only\n",
    "dipslip = 1-((Fmod.latc-lat0)**2 + (Fmod.lonc-lon0)**2)\n",
    "dipslip[dipslip<0.5] = 0 \n",
    "\n",
    "# zero strike slip\n",
    "strikeslip = 0*dipslip\n",
    "\n",
    "# assemble the full slip model. Interleaved by patches. (this is confusing, I'll probably change it later.)\n",
    "m = np.empty((strikeslip.size + dipslip.size,), dtype=strikeslip.dtype)\n",
    "m[0::2] = strikeslip\n",
    "m[1::2] = dipslip\n",
    "\n",
    "G = Fmod.get_greens(gpslat,gpslon,kind='displacement')\n",
    "#layout of displacement G is:\n",
    "#      ...patch1....\n",
    "#    . uE_str uE_dip\n",
    "# pt1. uN_str uN_dip\n",
    "#    . uU_str uU_dip\n",
    "#layout of strain G is:\n",
    "#      ....patch1.....\n",
    "#    . eNN_str eNN_dip\n",
    "# pt1. eNE_str eNE_dip\n",
    "#    . eEN_str eEN_dip\n",
    "#    . eEE_str eEE_dip\n",
    "print(np.shape(G))\n",
    "\n",
    "gpsmotion = G.dot(m)\n",
    "print(np.shape(gpsmotion))\n",
    "\n",
    "\n",
    "# plot the fault model and GPS\n",
    "Fplot = fault_plots.FaultPlot2D()\n",
    "Fplot.plot_symbols(gpslon,gpslat,'r^',label='GPS')\n",
    "Fplot.plot_slip_patches(Fmodel=Fmod,slip=dipslip,clim=[0,1])\n",
    "Fplot.set_lims(xlims=[94,96],ylims=[19,21])\n",
    "ax = Fplot.get_ax()\n",
    "ax.quiver(gpslon,gpslat,gpsmotion[0::3],gpsmotion[1::3],scale=3)\n",
    "ax.set_title('Slip and GPS displacements')\n",
    "ax.legend()"
   ]
  },
  {
   "cell_type": "code",
   "execution_count": null,
   "metadata": {},
   "outputs": [],
   "source": []
  },
  {
   "cell_type": "code",
   "execution_count": null,
   "metadata": {},
   "outputs": [],
   "source": []
  }
 ],
 "metadata": {
  "kernelspec": {
   "display_name": "Python 3",
   "language": "python",
   "name": "python3"
  },
  "language_info": {
   "codemirror_mode": {
    "name": "ipython",
    "version": 3
   },
   "file_extension": ".py",
   "mimetype": "text/x-python",
   "name": "python",
   "nbconvert_exporter": "python",
   "pygments_lexer": "ipython3",
   "version": "3.8.6"
  }
 },
 "nbformat": 4,
 "nbformat_minor": 4
}
