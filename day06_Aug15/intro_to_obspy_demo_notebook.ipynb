{
 "cells": [
  {
   "cell_type": "markdown",
   "id": "60f4ac17",
   "metadata": {},
   "source": [
    "![](https://raw.githubusercontent.com/unm-escape/escape2022/main/header2.png)"
   ]
  },
  {
   "cell_type": "markdown",
   "id": "0636bbe0",
   "metadata": {},
   "source": [
    "<h1 style=\"text-align:center; color:#3333ff;\">Intro to ObsPy</h1>\n",
    "<br>\n",
    "<div style=\"text-align:center; font-size:16px\">\n",
    "    Earth and Planetary Sciences,<br>\n",
    "    University of New Mexico<br>\n",
    "    <br>\n",
    "    August 15, 2022\n",
    "</div>"
   ]
  },
  {
   "cell_type": "markdown",
   "id": "61c1baf3",
   "metadata": {},
   "source": [
    "# [ObsPy](https://docs.obspy.org/)\n",
    "\n",
    "ObsPy is an open-source project dedicated to provide a Python framework for processing seismological data. It provides parsers for common file formats, clients to access data centers and seismological signal processing routines which allow the manipulation of seismological time series.\n",
    "\n",
    "---\n",
    "\n",
    "**ObsPy Tutorial Outline:**\n",
    "1. Downloading station inventory\n",
    "2. Downloading earthquake catalog\n",
    "3. Downloading earthquake seismograms<br>\n",
    "4. Removing instrument response<br>\n",
    "5. Writing waveform data to disk<br>\n",
    "6. Reading waveform data from disk\n",
    "7. Miscellaneous<br>\n",
    "---\n",
    "**Dependencies:** Obspy, Matplotlib, Numpy\n",
    "\n",
    "---"
   ]
  },
  {
   "cell_type": "markdown",
   "id": "a872c645",
   "metadata": {},
   "source": [
    "## 1. Downloading station inventory"
   ]
  },
  {
   "cell_type": "markdown",
   "id": "7cd42c5d",
   "metadata": {},
   "source": [
    "ObsPy can retrieve seismic data from many different online databases globally. These databases, known as \"clients\" in the ObsPy ecosystem are coordinated by the International Federation of Digital Seismograph Networks ([FDSN](https://docs.obspy.org/packages/obspy.clients.fdsn.html)).\n",
    "\n",
    "In order to retrieve station metadata, earthquake catalogs or seismograms with obsPy, a client object must be initialized. In this tutorial we will use the IRIS webservice.\n",
    "\n",
    "More information on basic FDSN client usage can be found [here](https://docs.obspy.org/packages/obspy.clients.fdsn.html#basic-fdsn-client-usage).\n",
    "\n",
    "---"
   ]
  },
  {
   "cell_type": "markdown",
   "id": "cb4a76e0",
   "metadata": {},
   "source": [
    "Let's begin by importing fdsn client package."
   ]
  },
  {
   "cell_type": "code",
   "execution_count": null,
   "id": "ad570b4e",
   "metadata": {},
   "outputs": [],
   "source": [
    "from obspy.clients.fdsn import Client as FDSN_Client"
   ]
  },
  {
   "cell_type": "markdown",
   "id": "295df2e3",
   "metadata": {},
   "source": [
    "Now we specify that we want data from the IRIS web service."
   ]
  },
  {
   "cell_type": "code",
   "execution_count": null,
   "id": "f35735c9",
   "metadata": {},
   "outputs": [],
   "source": [
    "client = FDSN_Client(\"IRIS\")"
   ]
  },
  {
   "cell_type": "markdown",
   "id": "0fd6dab9",
   "metadata": {},
   "source": [
    "ObsPy uses the [UTCDateTime](https://docs.obspy.org/packages/autogen/obspy.core.utcdatetime.UTCDateTime.html) class to work with time. So we have to import the UTCDatetime package too."
   ]
  },
  {
   "cell_type": "code",
   "execution_count": null,
   "id": "9169fbc3",
   "metadata": {},
   "outputs": [],
   "source": [
    "from obspy import UTCDateTime"
   ]
  },
  {
   "cell_type": "markdown",
   "id": "fb93435c",
   "metadata": {},
   "source": [
    "How do we decide which stations to download?\n",
    "\n",
    "Generally, seismologist uses the [SEED](https://ds.iris.edu/ds/nodes/dmc/data/formats/seed/) format which has 4 components for data identification:\n",
    "1) Network code\n",
    "2) Station code\n",
    "3) Location ID\n",
    "4) Channel codes\n",
    "\n",
    "We can check global seismic station distribution and get the identification information from the IRIS [GMAP](https://ds.iris.edu/gmap/) tool which creates dynamic station maps that can be panned and zoomed. In this example, I retrieved network code, station code, channel codes and the location ID from the GMAP tool. The starttime and endtime depend on when the events occured."
   ]
  },
  {
   "cell_type": "code",
   "execution_count": null,
   "id": "e79f74e3",
   "metadata": {},
   "outputs": [],
   "source": [
    "network = 'II'\n",
    "station = 'KDAK'\n",
    "channel = 'BH?'\n",
    "location = '00'\n",
    "starttime = '2021-07-28'\n",
    "endtime = '2021-07-30'"
   ]
  },
  {
   "cell_type": "markdown",
   "id": "c8940416",
   "metadata": {},
   "source": [
    "Now let's query the station service of the FDSN client using the [get_stations](https://docs.obspy.org/packages/autogen/obspy.clients.fdsn.client.Client.get_stations.html) function which returns a stations inventory object."
   ]
  },
  {
   "cell_type": "code",
   "execution_count": null,
   "id": "1c0a7ddf",
   "metadata": {},
   "outputs": [],
   "source": [
    "inventory = client.get_stations(network=network, station=station, channel=channel, \n",
    "                                level='response', location=location, starttime=UTCDateTime(starttime), \n",
    "                                endtime=UTCDateTime(endtime))"
   ]
  },
  {
   "cell_type": "code",
   "execution_count": null,
   "id": "8ff913fa",
   "metadata": {},
   "outputs": [],
   "source": [
    "print(inventory)"
   ]
  },
  {
   "cell_type": "code",
   "execution_count": null,
   "id": "e545ab07",
   "metadata": {},
   "outputs": [],
   "source": [
    "print(inventory[0])\n",
    "print(inventory[0].code)\n",
    "print(inventory[0].stations)\n",
    "print(inventory[0][0])\n",
    "print(inventory[0][0].code) # For station name\n",
    "print(inventory[0][0][0])"
   ]
  },
  {
   "cell_type": "markdown",
   "id": "2fe83245",
   "metadata": {},
   "source": [
    "---\n",
    "We can view the stations on a map global or local map using the [inventory.plot()](https://docs.obspy.org/master/packages/autogen/obspy.core.inventory.inventory.Inventory.plot.html) function. See the documentation for more parameters.\n",
    "\n",
    "NOTE: Plotting higher resolution maps i.e. resolution='f' will take longer to plot."
   ]
  },
  {
   "cell_type": "code",
   "execution_count": null,
   "id": "b1c04819",
   "metadata": {},
   "outputs": [],
   "source": [
    "inventory.plot('global');\n",
    "#inventory.plot('ortho');\n",
    "inventory.plot(projection='local', resolution='f', color='blue', continent_fill_color='peru', water_fill_color='lightblue');"
   ]
  },
  {
   "cell_type": "markdown",
   "id": "c211eea5",
   "metadata": {},
   "source": [
    "Now we create a new directory, name it appropriately and save the station inventory xml file inside it.\n",
    "\n",
    "First we import python's [os](https://docs.python.org/3/library/os.html) module which provides a portable of interfacing with the computer's operation system."
   ]
  },
  {
   "cell_type": "code",
   "execution_count": null,
   "id": "df39b6d7",
   "metadata": {},
   "outputs": [],
   "source": [
    "import os"
   ]
  },
  {
   "cell_type": "markdown",
   "id": "e8071338",
   "metadata": {},
   "source": [
    "Use the os.path.join() method to establish a path to the directory we want to create."
   ]
  },
  {
   "cell_type": "code",
   "execution_count": null,
   "id": "edf09f37",
   "metadata": {},
   "outputs": [],
   "source": [
    "data_dir = os.path.join('data', '')\n",
    "print(data_dir)"
   ]
  },
  {
   "cell_type": "markdown",
   "id": "441385cf",
   "metadata": {},
   "source": [
    "---\n",
    "Use the os.mkdir() method to create a directory joined by the path"
   ]
  },
  {
   "cell_type": "code",
   "execution_count": null,
   "id": "3f5a74ee",
   "metadata": {},
   "outputs": [],
   "source": [
    "os.mkdir(data_dir)"
   ]
  },
  {
   "cell_type": "markdown",
   "id": "34cebd10",
   "metadata": {},
   "source": [
    "Now save the station inventory inside the newly created directory using ObsPy's [inventory.write()](https://docs.obspy.org/master/packages/autogen/obspy.core.inventory.inventory.Inventory.write.html) function."
   ]
  },
  {
   "cell_type": "code",
   "execution_count": null,
   "id": "8311f995",
   "metadata": {},
   "outputs": [],
   "source": [
    "inventory.write(data_dir + 'station.xml', 'STATIONXML')"
   ]
  },
  {
   "cell_type": "markdown",
   "id": "70495519",
   "metadata": {},
   "source": [
    "---\n",
    "To read station inventory from an xml file in your computer, import ObsPy's [inventory.read()](https://docs.obspy.org/packages/autogen/obspy.core.inventory.inventory.read_inventory.html) function."
   ]
  },
  {
   "cell_type": "code",
   "execution_count": null,
   "id": "fb54cb96",
   "metadata": {},
   "outputs": [],
   "source": [
    "from obspy import read_inventory"
   ]
  },
  {
   "cell_type": "markdown",
   "id": "cb67e7fa",
   "metadata": {},
   "source": [
    "Read the inventory into a new inventory variable."
   ]
  },
  {
   "cell_type": "code",
   "execution_count": null,
   "id": "dcd9b481",
   "metadata": {},
   "outputs": [],
   "source": [
    "inventory2 = read_inventory(data_dir + 'station.xml')"
   ]
  },
  {
   "cell_type": "code",
   "execution_count": null,
   "id": "6dde30d2",
   "metadata": {},
   "outputs": [],
   "source": [
    "print(inventory2)"
   ]
  },
  {
   "cell_type": "code",
   "execution_count": null,
   "id": "aa042738",
   "metadata": {},
   "outputs": [],
   "source": [
    "inventory2.plot();"
   ]
  },
  {
   "cell_type": "markdown",
   "id": "50e06d18",
   "metadata": {},
   "source": [
    "## 2. Downloading earthquake catalog"
   ]
  },
  {
   "cell_type": "markdown",
   "id": "1ec92f91",
   "metadata": {},
   "source": [
    "For this example, let's create a catalog for the 2021 [M8.2 Chignik earthquake](https://earthquake.usgs.gov/earthquakes/eventpage/ak0219neiszm/executive).\n",
    "\n",
    "We will begin by querying the events service of the FDSN client using the [get_events](https://docs.obspy.org/packages/autogen/obspy.clients.fdsn.client.Client.get_events.html) function which returns an events catalog object."
   ]
  },
  {
   "cell_type": "code",
   "execution_count": null,
   "id": "6c3ebedf",
   "metadata": {},
   "outputs": [],
   "source": [
    "client = FDSN_Client(\"IRIS\")"
   ]
  },
  {
   "cell_type": "code",
   "execution_count": null,
   "id": "57ed2747",
   "metadata": {},
   "outputs": [],
   "source": [
    "catalog = client.get_events(starttime='2021-07-28', endtime='2021-07-30', minmagnitude=8)"
   ]
  },
  {
   "cell_type": "code",
   "execution_count": null,
   "id": "4d6ecb4d",
   "metadata": {},
   "outputs": [],
   "source": [
    "print(catalog)"
   ]
  },
  {
   "cell_type": "code",
   "execution_count": null,
   "id": "411c40b1",
   "metadata": {},
   "outputs": [],
   "source": [
    "catalog.plot();"
   ]
  },
  {
   "cell_type": "markdown",
   "id": "4cbf775f",
   "metadata": {},
   "source": [
    "Write event to file"
   ]
  },
  {
   "cell_type": "code",
   "execution_count": null,
   "id": "76618eed",
   "metadata": {},
   "outputs": [],
   "source": [
    "catalog.write(data_dir + 'event.xml', 'QUAKEML')"
   ]
  },
  {
   "cell_type": "markdown",
   "id": "ee1d01c5",
   "metadata": {},
   "source": [
    "To read event(s) from file, import ObsPy's [read_events()](https://docs.obspy.org/master/packages/autogen/obspy.core.event.read_events.html) function."
   ]
  },
  {
   "cell_type": "code",
   "execution_count": null,
   "id": "aca50192",
   "metadata": {},
   "outputs": [],
   "source": [
    "from obspy import read_events"
   ]
  },
  {
   "cell_type": "code",
   "execution_count": null,
   "id": "3a44ff52",
   "metadata": {},
   "outputs": [],
   "source": [
    "catalog2 = read_events(data_dir + 'event.xml')"
   ]
  },
  {
   "cell_type": "code",
   "execution_count": null,
   "id": "5155d4a1",
   "metadata": {},
   "outputs": [],
   "source": [
    "print(catalog2)"
   ]
  },
  {
   "cell_type": "code",
   "execution_count": null,
   "id": "18f0fa27",
   "metadata": {
    "scrolled": true
   },
   "outputs": [],
   "source": [
    "catalog2.plot();"
   ]
  },
  {
   "cell_type": "code",
   "execution_count": null,
   "id": "5876df34",
   "metadata": {},
   "outputs": [],
   "source": [
    "print(catalog2[0])"
   ]
  },
  {
   "cell_type": "markdown",
   "id": "3edfd108",
   "metadata": {},
   "source": [
    "---\n",
    "Explore earthquake parameters from the catalog:"
   ]
  },
  {
   "cell_type": "code",
   "execution_count": null,
   "id": "f118978d",
   "metadata": {},
   "outputs": [],
   "source": [
    "event = catalog2[0]\n",
    "eq_time = event.origins[0].time\n",
    "eq_mag = event.magnitudes[0].mag\n",
    "eq_lat = event.origins[0].latitude\n",
    "eq_lon = event.origins[0].longitude\n",
    "eq_depth = event.origins[0].depth/1000\n",
    "eq_description = event.event_descriptions[0].text\n",
    "eq_mag_type = event.magnitudes[0].magnitude_type"
   ]
  },
  {
   "cell_type": "code",
   "execution_count": null,
   "id": "dd8e6c18",
   "metadata": {},
   "outputs": [],
   "source": [
    "print(eq_time)"
   ]
  },
  {
   "cell_type": "markdown",
   "id": "13a8e6da",
   "metadata": {},
   "source": [
    "## 3. Downloading earthquake seismograms"
   ]
  },
  {
   "cell_type": "markdown",
   "id": "bf6959cf",
   "metadata": {},
   "source": [
    "Lets download seismograms for the 2021 [M8.2 Chignik earthquake](https://earthquake.usgs.gov/earthquakes/eventpage/ak0219neiszm/executive) recorded at the nearby II.KDAK station.\n",
    "\n",
    "First we import ObsPy's [geodetics](https://docs.obspy.org/master/packages/obspy.geodetics.html) and [taup](https://docs.obspy.org/packages/obspy.taup.html) functions."
   ]
  },
  {
   "cell_type": "code",
   "execution_count": null,
   "id": "7751bce2",
   "metadata": {},
   "outputs": [],
   "source": [
    "from obspy.clients.fdsn import Client as FDSN_Client\n",
    "from obspy import UTCDateTime\n",
    "from obspy.taup import TauPyModel\n",
    "from obspy.geodetics import gps2dist_azimuth\n",
    "from obspy.geodetics import kilometer2degrees"
   ]
  },
  {
   "cell_type": "markdown",
   "id": "c5a186ea",
   "metadata": {},
   "source": [
    "Define the FDSN client and taup earth model"
   ]
  },
  {
   "cell_type": "code",
   "execution_count": null,
   "id": "5238af4d",
   "metadata": {},
   "outputs": [],
   "source": [
    "client = FDSN_Client(\"IRIS\")\n",
    "tpmodel = TauPyModel(model='iasp91')"
   ]
  },
  {
   "cell_type": "markdown",
   "id": "5a2fe493",
   "metadata": {},
   "source": [
    "Get the station latitude and longitude from the station inventory we downloaded earlier."
   ]
  },
  {
   "cell_type": "code",
   "execution_count": null,
   "id": "0efb46c6",
   "metadata": {},
   "outputs": [],
   "source": [
    "sta_lat = inventory[0].stations[0].latitude\n",
    "sta_lon = inventory[0].stations[0].longitude"
   ]
  },
  {
   "cell_type": "markdown",
   "id": "dade9977",
   "metadata": {},
   "source": [
    "Retrieve the earthquakes P-wave travel time information."
   ]
  },
  {
   "cell_type": "code",
   "execution_count": null,
   "id": "bb417b4e",
   "metadata": {
    "scrolled": true
   },
   "outputs": [],
   "source": [
    "epi_dist_m, az, baz = gps2dist_azimuth(eq_lat, eq_lon, sta_lat, sta_lon)\n",
    "epi_dist_km = epi_dist_m/1000\n",
    "epi_dist_deg = kilometer2degrees(epi_dist_km)\n",
    "arrivals = tpmodel.get_travel_times(distance_in_degree=epi_dist_deg, source_depth_in_km=eq_depth, phase_list=['P'])\n",
    "print(arrivals[0])"
   ]
  },
  {
   "cell_type": "markdown",
   "id": "ce2a46bd",
   "metadata": {},
   "source": [
    "---\n",
    "Let's see if we have all the information we need to download the seismograms."
   ]
  },
  {
   "cell_type": "code",
   "execution_count": null,
   "id": "edf32961",
   "metadata": {},
   "outputs": [],
   "source": [
    "ttime = arrivals[0].time\n",
    "print(ttime)"
   ]
  },
  {
   "cell_type": "code",
   "execution_count": null,
   "id": "eadbd986",
   "metadata": {},
   "outputs": [],
   "source": [
    "print(eq_time)"
   ]
  },
  {
   "cell_type": "code",
   "execution_count": null,
   "id": "84715d23",
   "metadata": {},
   "outputs": [],
   "source": [
    "#originTime = UTCDateTime('2021-07-29T06:15:49')\n",
    "#print(originTime)"
   ]
  },
  {
   "cell_type": "code",
   "execution_count": null,
   "id": "fffa9a30",
   "metadata": {},
   "outputs": [],
   "source": [
    "onset = eq_time + ttime\n",
    "print(onset)"
   ]
  },
  {
   "cell_type": "code",
   "execution_count": null,
   "id": "955a5148",
   "metadata": {},
   "outputs": [],
   "source": [
    "tstart = onset - 60*3\n",
    "print(tstart)"
   ]
  },
  {
   "cell_type": "code",
   "execution_count": null,
   "id": "8363166d",
   "metadata": {},
   "outputs": [],
   "source": [
    "tend = onset + 60*15\n",
    "print(tend)"
   ]
  },
  {
   "cell_type": "code",
   "execution_count": null,
   "id": "7238b6dd",
   "metadata": {},
   "outputs": [],
   "source": [
    "network = 'II'#inventory[0].code\n",
    "station = 'KDAK'#inventory[0].stations[0].code\n",
    "location = '00'#'*'\n",
    "channel = 'BH?'"
   ]
  },
  {
   "cell_type": "markdown",
   "id": "a6f28644",
   "metadata": {},
   "source": [
    "---\n",
    "Query the dataselect service of the FDSN client using the [get_waveforms](https://docs.obspy.org/packages/autogen/obspy.clients.fdsn.client.Client.get_waveforms.html) function which returns a [Stream](https://docs.obspy.org/packages/autogen/obspy.core.stream.Stream.html#obspy.core.stream.Stream) object.\n",
    "\n",
    "ObsPy stores seismograms in [Stream](https://docs.obspy.org/packages/autogen/obspy.core.stream.Stream.html#obspy.core.stream.Stream) object which are list-like objects that contain several [Trace](https://docs.obspy.org/packages/autogen/obspy.core.trace.Trace.html#obspy.core.trace.Trace) objects (i.e. time series with accompanying header/metadata).\n",
    "\n",
    "The data attribute in Trace objects contains the actual time series data which is a [NumPy](https://numpy.org/doc/stable/reference/generated/numpy.ndarray.html#numpy.ndarray) array. The metadata is stored in [stats]() attribute of the Trace objects."
   ]
  },
  {
   "cell_type": "code",
   "execution_count": null,
   "id": "c3360a37",
   "metadata": {},
   "outputs": [],
   "source": [
    "stream = client.get_waveforms(network, station, location, channel, tstart, tend)\n",
    "print(stream)"
   ]
  },
  {
   "cell_type": "code",
   "execution_count": null,
   "id": "522216cf",
   "metadata": {},
   "outputs": [],
   "source": [
    "len(stream)"
   ]
  },
  {
   "cell_type": "markdown",
   "id": "6fa88db1",
   "metadata": {},
   "source": [
    "Assign the first trace to a variable"
   ]
  },
  {
   "cell_type": "code",
   "execution_count": null,
   "id": "e5cddafb",
   "metadata": {},
   "outputs": [],
   "source": [
    "print(stream[0])"
   ]
  },
  {
   "cell_type": "code",
   "execution_count": null,
   "id": "80f40bbd",
   "metadata": {},
   "outputs": [],
   "source": [
    "tr = stream[0].copy()\n",
    "print(tr)"
   ]
  },
  {
   "cell_type": "markdown",
   "id": "5b81389e",
   "metadata": {},
   "source": [
    "Access meta data using the stats keyword."
   ]
  },
  {
   "cell_type": "code",
   "execution_count": null,
   "id": "ec6d5764",
   "metadata": {},
   "outputs": [],
   "source": [
    "print(tr.stats)"
   ]
  },
  {
   "cell_type": "code",
   "execution_count": null,
   "id": "2afefe62",
   "metadata": {},
   "outputs": [],
   "source": [
    "print(tr.stats.station)"
   ]
  },
  {
   "cell_type": "code",
   "execution_count": null,
   "id": "5b0b665e",
   "metadata": {},
   "outputs": [],
   "source": [
    "print(tr.stats.mseed.record_length)"
   ]
  },
  {
   "cell_type": "markdown",
   "id": "af6bb4b0",
   "metadata": {},
   "source": [
    "Access waveform data using the data keyword."
   ]
  },
  {
   "cell_type": "code",
   "execution_count": null,
   "id": "e269e57b",
   "metadata": {},
   "outputs": [],
   "source": [
    "len(tr)"
   ]
  },
  {
   "cell_type": "code",
   "execution_count": null,
   "id": "68ad2445",
   "metadata": {},
   "outputs": [],
   "source": [
    "tr.data"
   ]
  },
  {
   "cell_type": "code",
   "execution_count": null,
   "id": "fe2b7042",
   "metadata": {},
   "outputs": [],
   "source": [
    "tr.data[0:3]"
   ]
  },
  {
   "cell_type": "markdown",
   "id": "72471a0d",
   "metadata": {},
   "source": [
    "Use the [plot](https://docs.obspy.org/packages/autogen/obspy.core.stream.Stream.plot.html#obspy.core.stream.Stream.plot) method to plot the waveform."
   ]
  },
  {
   "cell_type": "code",
   "execution_count": null,
   "id": "67b6b1eb",
   "metadata": {},
   "outputs": [],
   "source": [
    "tr.plot();"
   ]
  },
  {
   "cell_type": "code",
   "execution_count": null,
   "id": "d2615ecf",
   "metadata": {},
   "outputs": [],
   "source": [
    "print(inventory.get_orientation(\"II.KDAK.00.BHZ\", eq_time))\n",
    "print(inventory.get_response(\"II.KDAK.00.BHZ\", eq_time))\n",
    "print(inventory.get_coordinates(\"II.KDAK.00.BHZ\", eq_time))\n",
    "print(inventory.get_channel_metadata(\"II.KDAK.00.BHZ\", eq_time))"
   ]
  },
  {
   "cell_type": "markdown",
   "id": "fff07144",
   "metadata": {},
   "source": [
    "---\n",
    "## 4. Removing instrument response"
   ]
  },
  {
   "cell_type": "markdown",
   "id": "5675ee4c",
   "metadata": {},
   "source": [
    "The digitizer in many broadband seismometers converts the analog voltage signal to a digital timeseries. So the seismogram we downloaded is not actually a record ground motion but counts (see the cell above). To convert the data to actual ground motion (acceleration, velocity or displacement), we have to remove the instrument response.\n",
    "\n",
    "ObsPy allows users to attach the instrument response from clients when waveforms are downloaded."
   ]
  },
  {
   "cell_type": "code",
   "execution_count": null,
   "id": "c8996089",
   "metadata": {},
   "outputs": [],
   "source": [
    "channel = 'BH1'\n",
    "stream = client.get_waveforms(network, station, location, channel, tstart, tend, attach_response=True)\n",
    "print(stream)\n",
    "stream.plot();"
   ]
  },
  {
   "cell_type": "code",
   "execution_count": null,
   "id": "d9931d17",
   "metadata": {},
   "outputs": [],
   "source": [
    "inst_removed = stream.copy()\n",
    "print(inst_removed)"
   ]
  },
  {
   "cell_type": "code",
   "execution_count": null,
   "id": "af99a83e",
   "metadata": {
    "tags": []
   },
   "outputs": [],
   "source": [
    "inst_removed[0].remove_response(output='VEL')\n",
    "\n",
    "stream[0].plot();\n",
    "inst_removed[0].plot(color='green');"
   ]
  },
  {
   "cell_type": "markdown",
   "id": "f75659de",
   "metadata": {},
   "source": [
    "We can view the instrument removal process making the plot parameter True.\n",
    "\n",
    "Let's repeat the instrument removal. We have to re-copy the data since the instrument response was already removed."
   ]
  },
  {
   "cell_type": "code",
   "execution_count": null,
   "id": "6b68362a",
   "metadata": {},
   "outputs": [],
   "source": [
    "inst_removed = stream.copy()\n",
    "inst_removed.remove_response(output='VEL', plot=True)"
   ]
  },
  {
   "cell_type": "markdown",
   "id": "1738e29b",
   "metadata": {},
   "source": [
    "## 5. Writing waveform data to disk"
   ]
  },
  {
   "cell_type": "code",
   "execution_count": null,
   "id": "c0a908b4",
   "metadata": {},
   "outputs": [],
   "source": [
    "JDay = str(eq_time.julday)\n",
    "YYYY = str(eq_time.year)\n",
    "MM = str((format(eq_time.month,'02d')))\n",
    "DD = str((format(eq_time.day,'02d')))\n",
    "HH = str((format(eq_time.hour,'02d')))\n",
    "mm = str((format(eq_time.minute,'02d')))\n",
    "ss = str((format(eq_time.second,'02d')))\n",
    "msec = str(eq_time.microsecond)[:6]"
   ]
  },
  {
   "cell_type": "code",
   "execution_count": null,
   "id": "b3951ba0",
   "metadata": {},
   "outputs": [],
   "source": [
    "location = inst_removed[0].stats.location\n",
    "quality = inst_removed[0].stats.mseed.get('dataquality')\n",
    "fileID = network+'.'+station+'.'+location+'.'+channel+'.'+ quality+'.'+YYYY+'.'+JDay+'.'+HH+mm+ss+'.SAC'\n",
    "print(fileID)"
   ]
  },
  {
   "cell_type": "code",
   "execution_count": null,
   "id": "1a4fc7b6",
   "metadata": {},
   "outputs": [],
   "source": [
    "inst_removed[0].write(data_dir + fileID, format='SAC')"
   ]
  },
  {
   "cell_type": "markdown",
   "id": "a0dcc6f8",
   "metadata": {},
   "source": [
    "## 6. Reading waveform data from disk"
   ]
  },
  {
   "cell_type": "markdown",
   "id": "4f451824",
   "metadata": {},
   "source": [
    "ObsPy can detect seismogram data of various formats (e.g. SAC, MiniSEED, GSE2, SEISAN, Q, etc.) and import them into a Stream object using the [read()](https://docs.obspy.org/packages/autogen/obspy.core.stream.read.html) function."
   ]
  },
  {
   "cell_type": "code",
   "execution_count": null,
   "id": "1db76e79",
   "metadata": {},
   "outputs": [],
   "source": [
    "from obspy import read"
   ]
  },
  {
   "cell_type": "code",
   "execution_count": null,
   "id": "301d675f",
   "metadata": {},
   "outputs": [],
   "source": [
    "print(data_dir+fileID)"
   ]
  },
  {
   "cell_type": "code",
   "execution_count": null,
   "id": "866160f9",
   "metadata": {},
   "outputs": [],
   "source": [
    "st = read(data_dir + fileID)\n",
    "print(st)"
   ]
  },
  {
   "cell_type": "code",
   "execution_count": null,
   "id": "a73581af",
   "metadata": {},
   "outputs": [],
   "source": [
    "print(st[0].stats) # Notice the file format has changed from mseed to sac."
   ]
  },
  {
   "cell_type": "code",
   "execution_count": null,
   "id": "87903003",
   "metadata": {},
   "outputs": [],
   "source": [
    "st[0].plot();"
   ]
  },
  {
   "cell_type": "markdown",
   "id": "5a540381",
   "metadata": {},
   "source": [
    "## 7. Miscellaneous"
   ]
  },
  {
   "cell_type": "markdown",
   "id": "be1bbd0e",
   "metadata": {},
   "source": [
    "---\n",
    "### Trimming"
   ]
  },
  {
   "cell_type": "code",
   "execution_count": null,
   "id": "d46d662e",
   "metadata": {},
   "outputs": [],
   "source": [
    "tstart2 = onset - 20\n",
    "tend2 = onset + 3*60"
   ]
  },
  {
   "cell_type": "code",
   "execution_count": null,
   "id": "edac884b",
   "metadata": {},
   "outputs": [],
   "source": [
    "st_trimmed = st.copy()\n",
    "st_trimmed.trim(starttime=tstart2, endtime=tend2)"
   ]
  },
  {
   "cell_type": "code",
   "execution_count": null,
   "id": "7469ba57",
   "metadata": {},
   "outputs": [],
   "source": [
    "st_trimmed.plot();"
   ]
  },
  {
   "cell_type": "markdown",
   "id": "c5cf92c5",
   "metadata": {},
   "source": [
    "---\n",
    "### Spectrogram"
   ]
  },
  {
   "cell_type": "markdown",
   "id": "5eab61cb",
   "metadata": {},
   "source": [
    "A spectrogram is a visual way of representing the strength of a signal over time at different frequencies.\n",
    "\n",
    "ObsPy's [spectrogram](https://docs.obspy.org/packages/autogen/obspy.imaging.spectrogram.spectrogram.html) function computes and plots spectrograms of input waveforms."
   ]
  },
  {
   "cell_type": "code",
   "execution_count": null,
   "id": "53ed17c9",
   "metadata": {},
   "outputs": [],
   "source": [
    "st_trimmed.spectrogram(log=True, title='II.KDAK   ' + str(st_trimmed[0].stats.starttime))"
   ]
  },
  {
   "cell_type": "markdown",
   "id": "2a712455",
   "metadata": {
    "tags": []
   },
   "source": [
    "---\n",
    "### Resampling"
   ]
  },
  {
   "cell_type": "markdown",
   "id": "a91af4ac",
   "metadata": {},
   "source": [
    "ObsPy provides several methods for changing the sampling rate of waveform data. In this example, we will use the [interpolate](https://docs.obspy.org/packages/autogen/obspy.core.stream.Stream.interpolate.html#obspy.core.stream.Stream.interpolate) function.\n",
    "\n",
    "Since this operation alters the actual data arrays, keep the original data using the copy function to create a copy of your stream object."
   ]
  },
  {
   "cell_type": "markdown",
   "id": "60161a67",
   "metadata": {},
   "source": [
    "Print original sampling rate"
   ]
  },
  {
   "cell_type": "code",
   "execution_count": null,
   "id": "bf03cd42",
   "metadata": {},
   "outputs": [],
   "source": [
    "st_resamp = st.copy()\n",
    "print(st_resamp[0].stats.sampling_rate)"
   ]
  },
  {
   "cell_type": "markdown",
   "id": "904868b5",
   "metadata": {},
   "source": [
    "Now let's resample to 10 Hz."
   ]
  },
  {
   "cell_type": "code",
   "execution_count": null,
   "id": "96349f45",
   "metadata": {},
   "outputs": [],
   "source": [
    "st_resamp.interpolate(10)"
   ]
  },
  {
   "cell_type": "markdown",
   "id": "ed872273",
   "metadata": {},
   "source": [
    "Print the new sampling rate"
   ]
  },
  {
   "cell_type": "code",
   "execution_count": null,
   "id": "ea135c0e",
   "metadata": {},
   "outputs": [],
   "source": [
    "print(st_resamp[0].stats.sampling_rate)"
   ]
  },
  {
   "cell_type": "code",
   "execution_count": null,
   "id": "4d4febf8",
   "metadata": {},
   "outputs": [],
   "source": [
    "st_resamp.plot();"
   ]
  },
  {
   "cell_type": "markdown",
   "id": "1247ac24",
   "metadata": {},
   "source": [
    "---\n",
    "### Filtering"
   ]
  },
  {
   "cell_type": "markdown",
   "id": "82742dbd",
   "metadata": {},
   "source": [
    "Available filters in ObsPy include:\n",
    "1) bandpass\n",
    "2) bandstop\n",
    "3) lowpass\n",
    "4) highpass\n",
    "    \n",
    "In this example we will apply a bandpass filter to the resampled chignik seismogram."
   ]
  },
  {
   "cell_type": "code",
   "execution_count": null,
   "id": "602e585a",
   "metadata": {},
   "outputs": [],
   "source": [
    "st_filt = st_resamp.copy()\n",
    "st_filt.filter('bandpass', freqmin=0.01, freqmax=0.1, corners=4, zerophase=True)\n",
    "st_resamp.plot();\n",
    "st_filt.plot();"
   ]
  },
  {
   "cell_type": "markdown",
   "id": "656f4137",
   "metadata": {},
   "source": [
    "<h1 style=\"text-align:center; color:#3333ff;\">That's all folks!</h1>"
   ]
  }
 ],
 "metadata": {
  "kernelspec": {
   "display_name": "Python 3 (ipykernel)",
   "language": "python",
   "name": "python3"
  },
  "language_info": {
   "codemirror_mode": {
    "name": "ipython",
    "version": 3
   },
   "file_extension": ".py",
   "mimetype": "text/x-python",
   "name": "python",
   "nbconvert_exporter": "python",
   "pygments_lexer": "ipython3",
   "version": "3.9.12"
  }
 },
 "nbformat": 4,
 "nbformat_minor": 5
}
