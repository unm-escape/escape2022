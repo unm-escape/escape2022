{
 "cells": [
  {
   "cell_type": "markdown",
   "metadata": {},
   "source": [
    "![](https://raw.githubusercontent.com/unm-escape/escape2022/main/header2.png)"
   ]
  },
  {
   "cell_type": "markdown",
   "metadata": {},
   "source": [
    "<h1 style=\"text-align:center; color:#3333ff;\">Intro to ObsPy</h1>\n",
    "<br>\n",
    "<div style=\"text-align:center; font-size:16px\">\n",
    "    Earth and Planetary Sciences,<br>\n",
    "    University of New Mexico<br>\n",
    "    <br>\n",
    "    August 15, 2022\n",
    "</div>"
   ]
  },
  {
   "cell_type": "markdown",
   "metadata": {},
   "source": [
    "# [ObsPy](https://docs.obspy.org/)\n",
    "---\n",
    "**ObsPy Tutorial Outline:**\n",
    "1. Downloading station inventory\n",
    "2. Downloading earthquake catalog\n",
    "3. Downloading earthquake seismograms<br>\n",
    "4. Removing instrument response<br>\n",
    "5. Writing waveform data to disk<br>\n",
    "6. Reading waveform data from disk\n",
    "7. Miscellaneous<br>\n",
    "---\n",
    "**Dependencies:** Obspy, Matplotlib, Numpy\n",
    "\n",
    "---"
   ]
  },
  {
   "cell_type": "markdown",
   "metadata": {},
   "source": [
    "## 1. Downloading station inventory"
   ]
  },
  {
   "cell_type": "markdown",
   "metadata": {},
   "source": [
    "ObsPy can retrieve seismic data from many different online databases globally. These databases, known as \"clients\" in the ObsPy ecosystem are coordinated by the International Federation of Digital Seismograph Networks ([FDSN](https://docs.obspy.org/packages/obspy.clients.fdsn.html)).\n",
    "\n",
    "In order to retrieve station metadata, earthquake catalogs or seismograms with obsPy, a client object must be initialized. In this tutorial we will use the IRIS webservice.\n",
    "\n",
    "More information on basic FDSN client usage can be found [here](https://docs.obspy.org/packages/obspy.clients.fdsn.html#basic-fdsn-client-usage).\n",
    "\n",
    "---"
   ]
  },
  {
   "cell_type": "markdown",
   "metadata": {},
   "source": [
    "Let's begin by importing fdsn client package."
   ]
  },
  {
   "cell_type": "code",
   "execution_count": null,
   "metadata": {},
   "outputs": [],
   "source": [
    "from obspy.clients.fdsn import Client as FDSN_Client"
   ]
  },
  {
   "cell_type": "markdown",
   "metadata": {},
   "source": [
    "Now we specify that we want data from the IRIS web service."
   ]
  },
  {
   "cell_type": "code",
   "execution_count": null,
   "metadata": {},
   "outputs": [],
   "source": [
    "client = FDSN_Client(\"IRIS\")"
   ]
  },
  {
   "cell_type": "markdown",
   "metadata": {},
   "source": [
    "ObsPy uses the [UTCDateTime](https://docs.obspy.org/packages/autogen/obspy.core.utcdatetime.UTCDateTime.html) class to work with time. So we have to import the UTCDatetime package too."
   ]
  },
  {
   "cell_type": "code",
   "execution_count": null,
   "metadata": {},
   "outputs": [],
   "source": [
    "from obspy import UTCDateTime"
   ]
  },
  {
   "cell_type": "markdown",
   "metadata": {},
   "source": [
    "How do we decide which stations to download?\n",
    "\n",
    "Generally, seismologist uses the [SEED](https://ds.iris.edu/ds/nodes/dmc/data/formats/seed/) format which has 4 components for data identification:\n",
    "1) Network code\n",
    "2) Station code\n",
    "3) Location ID\n",
    "4) Channel codes\n",
    "\n",
    "We can check global seismic station distribution and get the identification information from the IRIS [GMAP](https://ds.iris.edu/gmap/) tool which creates dynamic station maps that can be panned and zoomed. In this example, I retrieved network code, station code, channel codes and the location ID from the GMAP tool. The starttime and endtime depend on when the events occured."
   ]
  },
  {
   "cell_type": "code",
   "execution_count": null,
   "metadata": {},
   "outputs": [],
   "source": [
    "network = 'II'\n",
    "station = 'KDAK'\n",
    "channel = 'BH?'\n",
    "location = '00'\n",
    "starttime = '2021-07-28'\n",
    "endtime = '2021-07-30'"
   ]
  },
  {
   "cell_type": "markdown",
   "metadata": {},
   "source": [
    "Now let's query the station service of the FDSN client using the [get_stations](https://docs.obspy.org/packages/autogen/obspy.clients.fdsn.client.Client.get_stations.html) function which returns a stations inventory object."
   ]
  },
  {
   "cell_type": "code",
   "execution_count": null,
   "metadata": {},
   "outputs": [],
   "source": [
    "inventory = client.get_stations(network=network, station=station, channel=channel, \n",
    "                                level='response', location=location, starttime=UTCDateTime(starttime), \n",
    "                                endtime=UTCDateTime(endtime))"
   ]
  },
  {
   "cell_type": "code",
   "execution_count": null,
   "metadata": {},
   "outputs": [],
   "source": [
    "print(inventory)"
   ]
  },
  {
   "cell_type": "code",
   "execution_count": null,
   "metadata": {},
   "outputs": [],
   "source": [
    "print(inventory[0])\n",
    "print(inventory[0].code)\n",
    "print(inventory[0].stations)\n",
    "print(inventory[0][0])\n",
    "print(inventory[0][0].code) # For station name\n",
    "print(inventory[0][0][0])"
   ]
  },
  {
   "cell_type": "markdown",
   "metadata": {},
   "source": [
    "---\n",
    "We can view the stations on a map global or local map using the [inventory.plot()](https://docs.obspy.org/master/packages/autogen/obspy.core.inventory.inventory.Inventory.plot.html) function. See the documentation for more parameters.\n",
    "\n",
    "NOTE: Plotting higher resolution maps i.e. resolution='f' will take longer to plot."
   ]
  },
  {
   "cell_type": "code",
   "execution_count": null,
   "metadata": {},
   "outputs": [],
   "source": [
    "inventory.plot('global');\n",
    "#inventory.plot('ortho');\n",
    "inventory.plot(projection='local', resolution='f', color='blue', continent_fill_color='peru', water_fill_color='lightblue');"
   ]
  },
  {
   "cell_type": "markdown",
   "metadata": {},
   "source": [
    "Now we create a new directory, name it appropriately and save the station inventory xml file inside it.\n",
    "\n",
    "First we import python's [os](https://docs.python.org/3/library/os.html) module which provides a portable of interfacing with the computer's operation system."
   ]
  },
  {
   "cell_type": "code",
   "execution_count": null,
   "metadata": {},
   "outputs": [],
   "source": [
    "import os"
   ]
  },
  {
   "cell_type": "markdown",
   "metadata": {},
   "source": [
    "Use the os.path.join() method to establish a path to the directory we want to create."
   ]
  },
  {
   "cell_type": "code",
   "execution_count": null,
   "metadata": {},
   "outputs": [],
   "source": [
    "data_dir = os.path.join('data', '')\n",
    "print(data_dir)"
   ]
  },
  {
   "cell_type": "markdown",
   "metadata": {},
   "source": [
    "---\n",
    "Use the os.mkdir() method to create a directory joined by the path"
   ]
  },
  {
   "cell_type": "code",
   "execution_count": null,
   "metadata": {},
   "outputs": [],
   "source": [
    "os.mkdir(data_dir)"
   ]
  },
  {
   "cell_type": "markdown",
   "metadata": {},
   "source": [
    "Now save the station inventory inside the newly created directory using ObsPy's [inventory.write()](https://docs.obspy.org/master/packages/autogen/obspy.core.inventory.inventory.Inventory.write.html) function."
   ]
  },
  {
   "cell_type": "code",
   "execution_count": null,
   "metadata": {},
   "outputs": [],
   "source": [
    "inventory.write(data_dir + 'station.xml', 'STATIONXML')"
   ]
  },
  {
   "cell_type": "markdown",
   "metadata": {},
   "source": [
    "---\n",
    "To read station inventory from an xml file in your computer, import ObsPy's [inventory.read()](https://docs.obspy.org/packages/autogen/obspy.core.inventory.inventory.read_inventory.html) function."
   ]
  },
  {
   "cell_type": "code",
   "execution_count": null,
   "metadata": {},
   "outputs": [],
   "source": [
    "from obspy import read_inventory"
   ]
  },
  {
   "cell_type": "markdown",
   "metadata": {},
   "source": [
    "Read the inventory into a new inventory variable."
   ]
  },
  {
   "cell_type": "code",
   "execution_count": null,
   "metadata": {},
   "outputs": [],
   "source": [
    "inventory2 = read_inventory(data_dir + 'station.xml')"
   ]
  },
  {
   "cell_type": "code",
   "execution_count": null,
   "metadata": {},
   "outputs": [],
   "source": [
    "print(inventory2)"
   ]
  },
  {
   "cell_type": "code",
   "execution_count": null,
   "metadata": {},
   "outputs": [],
   "source": [
    "inventory2.plot();"
   ]
  },
  {
   "cell_type": "markdown",
   "metadata": {},
   "source": [
    "## 2. Downloading earthquake catalog"
   ]
  },
  {
   "cell_type": "markdown",
   "metadata": {},
   "source": [
    "For this example, let's create a catalog for the 2021 [M8.2 Chignik earthquake](https://earthquake.usgs.gov/earthquakes/eventpage/ak0219neiszm/executive).\n",
    "\n",
    "We will begin by querying the events service of the FDSN client using the [get_events](https://docs.obspy.org/packages/autogen/obspy.clients.fdsn.client.Client.get_events.html) function which returns an events catalog object."
   ]
  },
  {
   "cell_type": "code",
   "execution_count": null,
   "metadata": {},
   "outputs": [],
   "source": [
    "client = FDSN_Client(\"IRIS\")"
   ]
  },
  {
   "cell_type": "code",
   "execution_count": null,
   "metadata": {},
   "outputs": [],
   "source": [
    "catalog = client.get_events(starttime='2021-07-28', endtime='2021-07-30', minmagnitude=8)"
   ]
  },
  {
   "cell_type": "code",
   "execution_count": null,
   "metadata": {},
   "outputs": [],
   "source": [
    "print(catalog)"
   ]
  },
  {
   "cell_type": "code",
   "execution_count": null,
   "metadata": {},
   "outputs": [],
   "source": [
    "catalog.plot();"
   ]
  },
  {
   "cell_type": "markdown",
   "metadata": {},
   "source": [
    "Write event to file"
   ]
  },
  {
   "cell_type": "code",
   "execution_count": null,
   "metadata": {},
   "outputs": [],
   "source": [
    "catalog.write(data_dir + 'event.xml', 'QUAKEML')"
   ]
  },
  {
   "cell_type": "markdown",
   "metadata": {},
   "source": [
    "To read event(s) from file, import ObsPy's [read_events()](https://docs.obspy.org/master/packages/autogen/obspy.core.event.read_events.html) function."
   ]
  },
  {
   "cell_type": "code",
   "execution_count": null,
   "metadata": {},
   "outputs": [],
   "source": [
    "from obspy import read_events"
   ]
  },
  {
   "cell_type": "code",
   "execution_count": null,
   "metadata": {},
   "outputs": [],
   "source": [
    "catalog2 = read_events(data_dir + 'event.xml')"
   ]
  },
  {
   "cell_type": "code",
   "execution_count": null,
   "metadata": {},
   "outputs": [],
   "source": [
    "print(catalog2)"
   ]
  },
  {
   "cell_type": "code",
   "execution_count": null,
   "metadata": {
    "scrolled": true
   },
   "outputs": [],
   "source": [
    "catalog2.plot();"
   ]
  },
  {
   "cell_type": "code",
   "execution_count": null,
   "metadata": {},
   "outputs": [],
   "source": [
    "print(catalog2[0])"
   ]
  },
  {
   "cell_type": "markdown",
   "metadata": {},
   "source": [
    "---\n",
    "Explore earthquake parameters from the catalog:"
   ]
  },
  {
   "cell_type": "code",
   "execution_count": null,
   "metadata": {},
   "outputs": [],
   "source": [
    "event = catalog2[0]\n",
    "eq_time = event.origins[0].time\n",
    "eq_mag = event.magnitudes[0].mag\n",
    "eq_lat = event.origins[0].latitude\n",
    "eq_lon = event.origins[0].longitude\n",
    "eq_depth = event.origins[0].depth/1000\n",
    "eq_description = event.event_descriptions[0].text\n",
    "eq_mag_type = event.magnitudes[0].magnitude_type"
   ]
  },
  {
   "cell_type": "code",
   "execution_count": null,
   "metadata": {},
   "outputs": [],
   "source": [
    "print(eq_time)"
   ]
  },
  {
   "cell_type": "markdown",
   "metadata": {},
   "source": [
    "## 3. Downloading earthquake seismograms"
   ]
  },
  {
   "cell_type": "markdown",
   "metadata": {},
   "source": [
    "Lets download seismograms for the 2021 [M8.2 Chignik earthquake](https://earthquake.usgs.gov/earthquakes/eventpage/ak0219neiszm/executive) recorded at the nearby II.KDAK station.\n",
    "\n",
    "First we import ObsPy's [geodetics](https://docs.obspy.org/master/packages/obspy.geodetics.html) and [taup](https://docs.obspy.org/packages/obspy.taup.html) functions."
   ]
  },
  {
   "cell_type": "code",
   "execution_count": null,
   "metadata": {},
   "outputs": [],
   "source": [
    "from obspy.clients.fdsn import Client as FDSN_Client\n",
    "from obspy import UTCDateTime\n",
    "from obspy.taup import TauPyModel\n",
    "from obspy.geodetics import gps2dist_azimuth\n",
    "from obspy.geodetics import kilometer2degrees"
   ]
  },
  {
   "cell_type": "markdown",
   "metadata": {},
   "source": [
    "Define the FDSN client and taup earth model"
   ]
  },
  {
   "cell_type": "code",
   "execution_count": null,
   "metadata": {},
   "outputs": [],
   "source": [
    "client = FDSN_Client(\"IRIS\")\n",
    "tpmodel = TauPyModel(model='iasp91')"
   ]
  },
  {
   "cell_type": "markdown",
   "metadata": {},
   "source": [
    "Get the station latitude and longitude from the station inventory we downloaded earlier."
   ]
  },
  {
   "cell_type": "code",
   "execution_count": null,
   "metadata": {},
   "outputs": [],
   "source": [
    "sta_lat = inventory[0].stations[0].latitude\n",
    "sta_lon = inventory[0].stations[0].longitude"
   ]
  },
  {
   "cell_type": "markdown",
   "metadata": {},
   "source": [
    "Retrieve the earthquakes P-wave travel time information."
   ]
  },
  {
   "cell_type": "code",
   "execution_count": null,
   "metadata": {
    "scrolled": true
   },
   "outputs": [],
   "source": [
    "epi_dist_m, az, baz = gps2dist_azimuth(eq_lat, eq_lon, sta_lat, sta_lon)\n",
    "epi_dist_km = epi_dist_m/1000\n",
    "epi_dist_deg = kilometer2degrees(epi_dist_km)\n",
    "arrivals = tpmodel.get_travel_times(distance_in_degree=epi_dist_deg, source_depth_in_km=eq_depth, phase_list=['P'])\n",
    "print(arrivals[0])"
   ]
  },
  {
   "cell_type": "markdown",
   "metadata": {},
   "source": [
    "---\n",
    "Let's see if we have all the information we need to download the seismograms."
   ]
  },
  {
   "cell_type": "code",
   "execution_count": null,
   "metadata": {},
   "outputs": [],
   "source": [
    "ttime = arrivals[0].time\n",
    "print(ttime)"
   ]
  },
  {
   "cell_type": "code",
   "execution_count": null,
   "metadata": {},
   "outputs": [],
   "source": [
    "print(eq_time)"
   ]
  },
  {
   "cell_type": "code",
   "execution_count": null,
   "metadata": {},
   "outputs": [],
   "source": [
    "#originTime = UTCDateTime('2021-07-29T06:15:49')\n",
    "#print(originTime)"
   ]
  },
  {
   "cell_type": "code",
   "execution_count": null,
   "metadata": {},
   "outputs": [],
   "source": [
    "onset = eq_time + ttime\n",
    "print(onset)"
   ]
  },
  {
   "cell_type": "code",
   "execution_count": null,
   "metadata": {},
   "outputs": [],
   "source": [
    "tstart = onset - 60*3\n",
    "print(tstart)"
   ]
  },
  {
   "cell_type": "code",
   "execution_count": null,
   "metadata": {},
   "outputs": [],
   "source": [
    "tend = onset + 60*15\n",
    "print(tend)"
   ]
  },
  {
   "cell_type": "code",
   "execution_count": null,
   "metadata": {},
   "outputs": [],
   "source": [
    "network = 'II'#inventory[0].code\n",
    "station = 'KDAK'#inventory[0].stations[0].code\n",
    "location = '00'#'*'\n",
    "channel = 'BH?'"
   ]
  },
  {
   "cell_type": "markdown",
   "metadata": {},
   "source": [
    "---\n",
    "Query the dataselect service of the FDSN client using the [get_waveforms](https://docs.obspy.org/packages/autogen/obspy.clients.fdsn.client.Client.get_waveforms.html) function which returns a [Stream](https://docs.obspy.org/packages/autogen/obspy.core.stream.Stream.html#obspy.core.stream.Stream) object.\n",
    "\n",
    "ObsPy stores seismograms in [Stream](https://docs.obspy.org/packages/autogen/obspy.core.stream.Stream.html#obspy.core.stream.Stream) object which are list-like objects that contain several [Trace](https://docs.obspy.org/packages/autogen/obspy.core.trace.Trace.html#obspy.core.trace.Trace) objects (i.e. time series with accompanying header/metadata).\n",
    "\n",
    "The data attribute in Trace objects contains the actual time series data which is a [NumPy](https://numpy.org/doc/stable/reference/generated/numpy.ndarray.html#numpy.ndarray) array. The metadata is stored in [stats]() attribute of the Trace objects."
   ]
  },
  {
   "cell_type": "code",
   "execution_count": null,
   "metadata": {},
   "outputs": [],
   "source": [
    "stream = client.get_waveforms(network, station, location, channel, tstart, tend)\n",
    "print(stream)"
   ]
  },
  {
   "cell_type": "code",
   "execution_count": null,
   "metadata": {},
   "outputs": [],
   "source": [
    "len(stream)"
   ]
  },
  {
   "cell_type": "markdown",
   "metadata": {},
   "source": [
    "Assign the first trace to a variable"
   ]
  },
  {
   "cell_type": "code",
   "execution_count": null,
   "metadata": {},
   "outputs": [],
   "source": [
    "print(stream[0])"
   ]
  },
  {
   "cell_type": "code",
   "execution_count": null,
   "metadata": {},
   "outputs": [],
   "source": [
    "tr = stream[0].copy()\n",
    "print(tr)"
   ]
  },
  {
   "cell_type": "markdown",
   "metadata": {},
   "source": [
    "Access meta data using the stats keyword."
   ]
  },
  {
   "cell_type": "code",
   "execution_count": null,
   "metadata": {},
   "outputs": [],
   "source": [
    "print(tr.stats)"
   ]
  },
  {
   "cell_type": "code",
   "execution_count": null,
   "metadata": {},
   "outputs": [],
   "source": [
    "print(tr.stats.station)"
   ]
  },
  {
   "cell_type": "code",
   "execution_count": null,
   "metadata": {},
   "outputs": [],
   "source": [
    "print(tr.stats.mseed.record_length)"
   ]
  },
  {
   "cell_type": "markdown",
   "metadata": {},
   "source": [
    "Access waveform data using the data keyword."
   ]
  },
  {
   "cell_type": "code",
   "execution_count": null,
   "metadata": {},
   "outputs": [],
   "source": [
    "len(tr)"
   ]
  },
  {
   "cell_type": "code",
   "execution_count": null,
   "metadata": {},
   "outputs": [],
   "source": [
    "tr.data"
   ]
  },
  {
   "cell_type": "code",
   "execution_count": null,
   "metadata": {},
   "outputs": [],
   "source": [
    "tr.data[0:3]"
   ]
  },
  {
   "cell_type": "markdown",
   "metadata": {},
   "source": [
    "Use the [plot](https://docs.obspy.org/packages/autogen/obspy.core.stream.Stream.plot.html#obspy.core.stream.Stream.plot) method to plot the waveform."
   ]
  },
  {
   "cell_type": "code",
   "execution_count": null,
   "metadata": {},
   "outputs": [],
   "source": [
    "tr.plot();"
   ]
  },
  {
   "cell_type": "code",
   "execution_count": null,
   "metadata": {},
   "outputs": [],
   "source": [
    "print(inventory.get_orientation(\"II.KDAK.00.BHZ\", eq_time))\n",
    "print(inventory.get_response(\"II.KDAK.00.BHZ\", eq_time))\n",
    "print(inventory.get_coordinates(\"II.KDAK.00.BHZ\", eq_time))\n",
    "print(inventory.get_channel_metadata(\"II.KDAK.00.BHZ\", eq_time))"
   ]
  },
  {
   "cell_type": "markdown",
   "metadata": {},
   "source": [
    "---\n",
    "## 4. Removing instrument response"
   ]
  },
  {
   "cell_type": "markdown",
   "metadata": {},
   "source": [
    "The digitizer in many broadband seismometers converts the analog voltage signal to a digital timeseries. So the seismogram we downloaded is not actually a record ground motion but counts (see the cell above). To convert the data to actual ground motion (acceleration, velocity or displacement), we have to remove the instrument response.\n",
    "\n",
    "ObsPy allows users to attach the instrument response from clients when waveforms are downloaded."
   ]
  },
  {
   "cell_type": "code",
   "execution_count": null,
   "metadata": {},
   "outputs": [],
   "source": [
    "channel = 'BH1'\n",
    "stream = client.get_waveforms(network, station, location, channel, tstart, tend, attach_response=True)\n",
    "print(stream)\n",
    "stream.plot();"
   ]
  },
  {
   "cell_type": "code",
   "execution_count": null,
   "metadata": {},
   "outputs": [],
   "source": [
    "inst_removed = stream.copy()\n",
    "print(inst_removed)"
   ]
  },
  {
   "cell_type": "code",
   "execution_count": null,
   "metadata": {
    "tags": []
   },
   "outputs": [],
   "source": [
    "inst_removed[0].remove_response(output='VEL')\n",
    "\n",
    "stream[0].plot();\n",
    "inst_removed[0].plot(color='green');"
   ]
  },
  {
   "cell_type": "markdown",
   "metadata": {},
   "source": [
    "We can view the instrument removal process making the plot parameter True.\n",
    "\n",
    "Let's repeat the instrument removal. We have to re-copy the data since the instrument response was already removed."
   ]
  },
  {
   "cell_type": "code",
   "execution_count": null,
   "metadata": {},
   "outputs": [],
   "source": [
    "inst_removed = stream.copy()\n",
    "inst_removed.remove_response(output='VEL', plot=True)"
   ]
  },
  {
   "cell_type": "markdown",
   "metadata": {},
   "source": [
    "## 5. Writing waveform data to disk"
   ]
  },
  {
   "cell_type": "code",
   "execution_count": null,
   "metadata": {},
   "outputs": [],
   "source": [
    "JDay = str(eq_time.julday)\n",
    "YYYY = str(eq_time.year)\n",
    "MM = str((format(eq_time.month,'02d')))\n",
    "DD = str((format(eq_time.day,'02d')))\n",
    "HH = str((format(eq_time.hour,'02d')))\n",
    "mm = str((format(eq_time.minute,'02d')))\n",
    "ss = str((format(eq_time.second,'02d')))\n",
    "msec = str(eq_time.microsecond)[:6]"
   ]
  },
  {
   "cell_type": "code",
   "execution_count": null,
   "metadata": {},
   "outputs": [],
   "source": [
    "location = inst_removed[0].stats.location\n",
    "quality = inst_removed[0].stats.mseed.get('dataquality')\n",
    "fileID = network+'.'+station+'.'+location+'.'+channel+'.'+ quality+'.'+YYYY+'.'+JDay+'.'+HH+mm+ss+'.SAC'\n",
    "print(fileID)"
   ]
  },
  {
   "cell_type": "code",
   "execution_count": null,
   "metadata": {},
   "outputs": [],
   "source": [
    "inst_removed[0].write(data_dir + fileID, format='SAC')"
   ]
  },
  {
   "cell_type": "markdown",
   "metadata": {},
   "source": [
    "## 6. Reading waveform data from disk"
   ]
  },
  {
   "cell_type": "markdown",
   "metadata": {},
   "source": [
    "ObsPy can detect seismogram data of various formats (e.g. SAC, MiniSEED, GSE2, SEISAN, Q, etc.) and import them into a Stream object using the [read()](https://docs.obspy.org/packages/autogen/obspy.core.stream.read.html) function."
   ]
  },
  {
   "cell_type": "code",
   "execution_count": null,
   "metadata": {},
   "outputs": [],
   "source": [
    "from obspy import read"
   ]
  },
  {
   "cell_type": "code",
   "execution_count": null,
   "metadata": {},
   "outputs": [],
   "source": [
    "print(data_dir+fileID)"
   ]
  },
  {
   "cell_type": "code",
   "execution_count": null,
   "metadata": {},
   "outputs": [],
   "source": [
    "st = read(data_dir + fileID)\n",
    "print(st)"
   ]
  },
  {
   "cell_type": "code",
   "execution_count": null,
   "metadata": {},
   "outputs": [],
   "source": [
    "print(st[0].stats) # Notice the file format has changed from mseed to sac."
   ]
  },
  {
   "cell_type": "code",
   "execution_count": null,
   "metadata": {},
   "outputs": [],
   "source": [
    "st[0].plot();"
   ]
  },
  {
   "cell_type": "markdown",
   "metadata": {},
   "source": [
    "## 7. Miscellaneous"
   ]
  },
  {
   "cell_type": "markdown",
   "metadata": {},
   "source": [
    "---\n",
    "### Trimming"
   ]
  },
  {
   "cell_type": "code",
   "execution_count": null,
   "metadata": {},
   "outputs": [],
   "source": [
    "tstart2 = onset - 20\n",
    "tend2 = onset + 3*60"
   ]
  },
  {
   "cell_type": "code",
   "execution_count": null,
   "metadata": {},
   "outputs": [],
   "source": [
    "st_trimmed = st.copy()\n",
    "st_trimmed.trim(starttime=tstart2, endtime=tend2)"
   ]
  },
  {
   "cell_type": "code",
   "execution_count": null,
   "metadata": {},
   "outputs": [],
   "source": [
    "st_trimmed.plot();"
   ]
  },
  {
   "cell_type": "markdown",
   "metadata": {},
   "source": [
    "---\n",
    "### Spectrogram"
   ]
  },
  {
   "cell_type": "markdown",
   "metadata": {},
   "source": [
    "A spectrogram is a visual way of representing the strength of a signal over time at different frequencies.\n",
    "\n",
    "ObsPy's [spectrogram](https://docs.obspy.org/packages/autogen/obspy.imaging.spectrogram.spectrogram.html) function computes and plots spectrograms of input waveforms."
   ]
  },
  {
   "cell_type": "code",
   "execution_count": null,
   "metadata": {},
   "outputs": [],
   "source": [
    "st_trimmed.spectrogram(log=True, title='II.KDAK   ' + str(st_trimmed[0].stats.starttime))"
   ]
  },
  {
   "cell_type": "markdown",
   "metadata": {
    "tags": []
   },
   "source": [
    "---\n",
    "### Resampling"
   ]
  },
  {
   "cell_type": "markdown",
   "metadata": {},
   "source": [
    "ObsPy provides several methods for changing the sampling rate of waveform data. In this example, we will use the [interpolate](https://docs.obspy.org/packages/autogen/obspy.core.stream.Stream.interpolate.html#obspy.core.stream.Stream.interpolate) function.\n",
    "\n",
    "Since this operation alters the actual data arrays, keep the original data using the copy function to create a copy of your stream object."
   ]
  },
  {
   "cell_type": "markdown",
   "metadata": {},
   "source": [
    "Print original sampling rate"
   ]
  },
  {
   "cell_type": "code",
   "execution_count": null,
   "metadata": {},
   "outputs": [],
   "source": [
    "st_resamp = st.copy()\n",
    "print(st_resamp[0].stats.sampling_rate)"
   ]
  },
  {
   "cell_type": "markdown",
   "metadata": {},
   "source": [
    "Now let's resample to 10 Hz."
   ]
  },
  {
   "cell_type": "code",
   "execution_count": null,
   "metadata": {},
   "outputs": [],
   "source": [
    "st_resamp.interpolate(10)"
   ]
  },
  {
   "cell_type": "markdown",
   "metadata": {},
   "source": [
    "Print the new sampling rate"
   ]
  },
  {
   "cell_type": "code",
   "execution_count": null,
   "metadata": {},
   "outputs": [],
   "source": [
    "print(st_resamp[0].stats.sampling_rate)"
   ]
  },
  {
   "cell_type": "code",
   "execution_count": null,
   "metadata": {},
   "outputs": [],
   "source": [
    "st_resamp.plot();"
   ]
  },
  {
   "cell_type": "markdown",
   "metadata": {},
   "source": [
    "---\n",
    "### Filtering"
   ]
  },
  {
   "cell_type": "markdown",
   "metadata": {},
   "source": [
    "Available filters in ObsPy include:\n",
    "1) bandpass\n",
    "2) bandstop\n",
    "3) lowpass\n",
    "4) highpass\n",
    "    \n",
    "In this example we will apply a bandpass filter to the resampled chignik seismogram."
   ]
  },
  {
   "cell_type": "code",
   "execution_count": null,
   "metadata": {},
   "outputs": [],
   "source": [
    "st_filt = st_resamp.copy()\n",
    "st_filt.filter('bandpass', freqmin=0.01, freqmax=0.1, corners=4, zerophase=True)\n",
    "st_resamp.plot();\n",
    "st_filt.plot();"
   ]
  },
  {
   "cell_type": "markdown",
   "metadata": {},
   "source": [
    "<h1 style=\"text-align:center; color:#3333ff;\">That's all folks!</h1>"
   ]
  }
 ],
 "metadata": {
  "kernelspec": {
   "display_name": "Python 3",
   "language": "python",
   "name": "python3"
  },
  "language_info": {
   "codemirror_mode": {
    "name": "ipython",
    "version": 3
   },
   "file_extension": ".py",
   "mimetype": "text/x-python",
   "name": "python",
   "nbconvert_exporter": "python",
   "pygments_lexer": "ipython3",
   "version": "3.7.3"
  }
 },
 "nbformat": 4,
 "nbformat_minor": 5
}
