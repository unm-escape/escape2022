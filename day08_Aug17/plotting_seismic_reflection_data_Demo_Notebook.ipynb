{
 "cells": [
  {
   "cell_type": "markdown",
   "id": "fd64cf65-d9b3-46fd-ab83-c992134f7356",
   "metadata": {},
   "source": [
    "![](https://raw.githubusercontent.com/unm-escape/escape2022/main/header2.png)"
   ]
  },
  {
   "cell_type": "markdown",
   "id": "491bb4a3",
   "metadata": {},
   "source": [
    "<h1 style=\"text-align:center; color:#3333ff;\">Plotting seismic reflection data and picking arrivals</h1>\n",
    "<br>\n",
    "<div style=\"text-align:center; font-size:16px\">\n",
    "    Earth and Planetary Sciences,<br>\n",
    "    University of New Mexico<br>\n",
    "    <br>\n",
    "    August 17, 2022\n",
    "</div>"
   ]
  },
  {
   "cell_type": "markdown",
   "id": "829a275c",
   "metadata": {},
   "source": [
    "---\n",
    "**Tutorial Outline:**\n",
    "1. Reading SEG-Y data from file<br>\n",
    "2. Updating header info<br>\n",
    "3. Applying simple amplitude attenuation correction<br>\n",
    "4. Picking arrivals<br>\n",
    "---\n",
    "**Dependencies:** Obspy, Numpy, Matplotlib and the Utils script\n",
    "\n",
    "---"
   ]
  },
  {
   "cell_type": "markdown",
   "id": "ce831005",
   "metadata": {},
   "source": [
    "<font size=\"4.5\">**1. Reading SEG-Y data from file**</font><br>"
   ]
  },
  {
   "cell_type": "markdown",
   "id": "8f4c3d15",
   "metadata": {},
   "source": [
    "Having looked at earthquake seismograms, the goal of this exercise is to quickly look at seismic reflection data while leveraging the Obspy and Matplotlib skills you acquired in previous lectures.\n",
    "\n",
    "There are more robust python and non-python open-source frameworks for processing seismic reflection data. I recommend [Seismic Unix](https://wiki.seismic-unix.org/doku.php) and [Madagascar](https://reproducibility.org/wiki/Main_Page).\n",
    "\n",
    "<font size=\"4.5\">Importing required modules:</font><br>\n",
    "\n",
    "The Utils module is a custom file containing several functions we will need to handle the SEG-Y files. Modules allow for breaking large programs into small manageable files and makes code reusable. \n",
    "\n",
    "Let's start by importing required modules."
   ]
  },
  {
   "cell_type": "code",
   "execution_count": null,
   "id": "1cff15a3",
   "metadata": {},
   "outputs": [],
   "source": [
    "import numpy as np\n",
    "import matplotlib\n",
    "\n",
    "import matplotlib.pyplot as plt\n",
    "from obspy import Stream, read\n",
    "from utils import plot_segy, pick_segy, plot_segy_picks, gain"
   ]
  },
  {
   "cell_type": "markdown",
   "id": "72c2c7c6",
   "metadata": {},
   "source": [
    "Read the SEG-Y data into a [Stream object](https://docs.obspy.org/packages/autogen/obspy.core.stream.Stream.html#obspy.core.stream.Stream) by supplying obspy [read function](https://docs.obspy.org/packages/autogen/obspy.core.stream.read.html) with the path to the SEG-Y file on your computer.\n",
    "\n",
    "The dataset we are using in this exercise, known as the OZ-25 dataset, is widely used in the geophysics community (see Yilmaz (2001), Chen et al. (2015) and Yarham et al. (2006)). The data is available at the [Seismic Unix website](https://wiki.seismic-unix.org/tutorials:data) and the [madagascar website](https://www.reproducibility.org/wiki/Main_Page)."
   ]
  },
  {
   "cell_type": "code",
   "execution_count": null,
   "id": "9b68931c-da87-4077-bea1-71a2f609f7f9",
   "metadata": {},
   "outputs": [],
   "source": [
    "stream = read('./data/ozdata_25.segy', format='SEGY',check_compression=False,unpack_trace_headers=True)\n",
    "print(stream)"
   ]
  },
  {
   "cell_type": "markdown",
   "id": "e8c9aeb0",
   "metadata": {},
   "source": [
    "Let's grab the first trace object and view a summary its metadata."
   ]
  },
  {
   "cell_type": "code",
   "execution_count": null,
   "id": "8e25c083",
   "metadata": {},
   "outputs": [],
   "source": [
    "tr = stream[0]\n",
    "print(tr)"
   ]
  },
  {
   "cell_type": "markdown",
   "id": "df71fb4c",
   "metadata": {},
   "source": [
    "Let's view the actual trace data"
   ]
  },
  {
   "cell_type": "code",
   "execution_count": null,
   "id": "faacf204",
   "metadata": {},
   "outputs": [],
   "source": [
    "print(tr.data)"
   ]
  },
  {
   "cell_type": "markdown",
   "id": "b8ea177e",
   "metadata": {},
   "source": [
    "---\n",
    "<font size=\"4.5\">**2. Updating header info**</font><br>\n",
    "\n",
    "The data is a common shot gather with a time sampling rate of 0.002s and receiver spacing of 0.05 km (50 m). The shot location is at the center of the array. \n",
    "\n",
    "Key headers of the OZ-25 data aren't populated, so let's update the receiver location, source location and the offset assuming a 2-D line."
   ]
  },
  {
   "cell_type": "code",
   "execution_count": null,
   "id": "c9c04fa1-24a2-4480-b4b9-80436c07e577",
   "metadata": {},
   "outputs": [],
   "source": [
    "sx = 2350 # source x coordinate\n",
    "gx = -0.05*1000 # Initialize receiver x coordinate at -50 m\n",
    "\n",
    "# Loop throught the stream\n",
    "for tr in stream:\n",
    "    gx += 0.05*1000\n",
    "    tr.stats.segy.trace_header.group_coordinate_x = gx\n",
    "    tr.stats.segy.trace_header.source_coordinate_x = sx\n",
    "    tr.stats.segy.trace_header.distance_from_center_of_the_source_point_to_the_center_of_the_receiver_group = gx-sx\n",
    "print(\"Update done!\")"
   ]
  },
  {
   "cell_type": "markdown",
   "id": "ee7cd5d9",
   "metadata": {},
   "source": [
    "---\n",
    "<font size=\"4.5\">**3. Applying simple amplitude attenuation correction**</font><br>\n",
    "\n",
    "Seismic amplitude is the magnitude of the wiggles in a seismic record. The amplitude is the experession of the energy in a seismic wave as a function of space, time and frequency (Zhou, 2014). The amplitude of seismic data depends on the source, receiver, and the medium in which the waves are propagating.\n",
    "\n",
    "In active source reflection seismology, the effect of the source and the receivers is anticipated and minimized. However, seismic attenuation due to media is typically addressed during processing. Seismic wave attenuation due to the media of propagation includes transmission loss, absorption and spherical spreading (Shearer, 2009).\n",
    "\n",
    "Plot the raw shot gather with the plot_segy function:"
   ]
  },
  {
   "cell_type": "code",
   "execution_count": null,
   "id": "6b5d6d32",
   "metadata": {},
   "outputs": [],
   "source": [
    "## Plot raw traces\n",
    "startTime = 0.0\n",
    "endTime = 2.5\n",
    "plot_segy(stream, normalizeTraces=False, normalizeGlobal=True, \n",
    "          scale=1, title='Raw data', tstart=startTime, tend=endTime, saveFigure=False)"
   ]
  },
  {
   "cell_type": "markdown",
   "id": "a99e10d5",
   "metadata": {},
   "source": [
    "---\n",
    "**Gain** is the amplitude correction applied to the seismic data. There are data-independent and data-dependent amplitude correction methods. In data-independent techniques, the scaling function is not derived from the amplitude information in the data.\n",
    "\n",
    "An example of a data-independent method is the $t^{2}$ method where each trace's data is multiplied by the square of the two-way travel time (Yilmaz, 2001).\n",
    "\n",
    "Use the gain function from the Util module to apply the $t^{2}$ gain:\n",
    "\n",
    "---"
   ]
  },
  {
   "cell_type": "code",
   "execution_count": null,
   "id": "62266271-00d8-4f3f-aa5d-6c0b05607eb4",
   "metadata": {},
   "outputs": [],
   "source": [
    "gainedStream = gain(stream, normalizeTraces=True)"
   ]
  },
  {
   "cell_type": "markdown",
   "id": "c434f851",
   "metadata": {},
   "source": [
    "Use the plot_segy function from the Util module to plot the $t^{2}$ gained dataset."
   ]
  },
  {
   "cell_type": "code",
   "execution_count": null,
   "id": "1300fb20",
   "metadata": {},
   "outputs": [],
   "source": [
    "startTime = 0.0\n",
    "endTime = 2.5\n",
    "plot_segy(gainedStream, normalizeTraces=False, normalizeGlobal=False, \n",
    "          scale=1, title='t^2 corrected', tstart=startTime, tend=endTime, saveFigure=False)"
   ]
  },
  {
   "cell_type": "markdown",
   "id": "032a23f5-9a64-4210-8853-f15267acae93",
   "metadata": {},
   "source": [
    "---\n",
    "<font size=\"4.5\">**4. Picking arrivals**</font><br>\n",
    "<br>\n",
    "\n",
    "![](https://raw.githubusercontent.com/unm-escape/escape2022/main/day08_Aug17/schematic.png)\n",
    "\n",
    "Now we identify the phases and pick the arrivals.\n",
    "\n",
    "First let's isolate one half of the raw and gained shot gather."
   ]
  },
  {
   "cell_type": "code",
   "execution_count": null,
   "id": "8f9a2d6b",
   "metadata": {},
   "outputs": [],
   "source": [
    "half_offset = Stream()\n",
    "for tr in stream:\n",
    "    if tr.stats.segy.trace_header.distance_from_center_of_the_source_point_to_the_center_of_the_receiver_group >= 0:\n",
    "        half_offset += tr\n",
    "        \n",
    "half_offset_gained = Stream()\n",
    "for tr in gainedStream:\n",
    "    if tr.stats.segy.trace_header.distance_from_center_of_the_source_point_to_the_center_of_the_receiver_group >= 0:\n",
    "        half_offset_gained += tr"
   ]
  },
  {
   "cell_type": "markdown",
   "id": "3f4f403d",
   "metadata": {},
   "source": [
    "Pick the direct wave."
   ]
  },
  {
   "cell_type": "code",
   "execution_count": null,
   "id": "f921f541",
   "metadata": {},
   "outputs": [],
   "source": [
    "## Pick first arrival\n",
    "startTime = 0.0\n",
    "endTime = 1.0\n",
    "dw_trc_nums, dw_picks, dw_offsets = pick_segy(half_offset, normalizeTraces=True, normalizeGlobal=False, scale=1, \n",
    "                                          title=None, tstart=startTime, tend=endTime, \n",
    "                                          saveFigure=True)"
   ]
  },
  {
   "cell_type": "markdown",
   "id": "5be3243c",
   "metadata": {},
   "source": [
    "---\n",
    "Plot the picks on the half-offset gathers"
   ]
  },
  {
   "cell_type": "code",
   "execution_count": null,
   "id": "8113826b",
   "metadata": {},
   "outputs": [],
   "source": [
    "## Plot picks\n",
    "%matplotlib inline\n",
    "plot_segy_picks(half_offset_gained, normalizeTraces=True, normalizeGlobal=False, scale=1, title=None, \n",
    "                tstart=0, tend=1, picksX=dw_trc_nums, picksY=dw_picks, saveFigure=True)"
   ]
  },
  {
   "cell_type": "markdown",
   "id": "e60c7f41",
   "metadata": {},
   "source": [
    "Create a T-X plot with your picks."
   ]
  },
  {
   "cell_type": "code",
   "execution_count": null,
   "id": "c1ff04c3-2da1-4831-bab1-18b15888ba8a",
   "metadata": {},
   "outputs": [],
   "source": [
    "print(dw_offsets)\n",
    "print(dw_picks)"
   ]
  },
  {
   "cell_type": "code",
   "execution_count": null,
   "id": "89bba824",
   "metadata": {},
   "outputs": [],
   "source": [
    "#m, b = np.polyfit(offsets, time_picks,1)\n",
    "coeffs = np.polyfit(dw_offsets, dw_picks,1)\n",
    "# Create the poly1d_fn function which takes in x and returns an estimate for y\n",
    "poly1d_fn = np.poly1d(coeffs)\n",
    "\n",
    "fig, axs = plt.subplots(figsize=(4,9))\n",
    "plt.axis('off')\n",
    "ax = fig.add_subplot('111')\n",
    "\n",
    "#ax.plot(offsets, time_picks, color='b', lw=1.0, zorder=1)\n",
    "#plt.scatter(offsets, time_picks, marker='x', color='r', s=50)\n",
    "\n",
    "#ax.plot(offsets, time_picks, 'rx', offsets, poly1d_fn(offsets), '--k')\n",
    "ax.plot(dw_offsets, dw_picks, 'rx', lw=1.0, zorder=1, label='Direct wave pick')\n",
    "ax.plot(dw_offsets, poly1d_fn(dw_offsets), '--k', lw=2.0, zorder=2, alpha=0.3)\n",
    "\n",
    "ax.set_xlabel('Distance (m)', fontsize=15)\n",
    "ax.set_ylabel('TWTT (s)', fontsize=15)\n",
    "#ax.text(offsets[round(len(offsets)/2)], time_picks[round(len(time_picks)/2)], str(round(1/m,2))+' m/s', fontsize=15)\n",
    "plt.title('T-X plot', fontsize=20)\n",
    "#plt.gca().invert_yaxis()\n",
    "plt.legend()\n",
    "plt.show()"
   ]
  },
  {
   "cell_type": "markdown",
   "id": "1d95027e",
   "metadata": {},
   "source": [
    "Use Numpy's polyfit function to calculate $V_{0}$"
   ]
  },
  {
   "cell_type": "code",
   "execution_count": null,
   "id": "06e13ab7",
   "metadata": {},
   "outputs": [],
   "source": [
    "# y = mx + b\n",
    "# y = slope*x + y-intercept\n",
    "m, b = np.polyfit(dw_offsets, dw_picks, 1)\n",
    "#print(1/m)\n",
    "#print(b)\n",
    "print('V\\N{SUBSCRIPT ZERO} = ' + str(round(1/m, 2)) + ' m/s')"
   ]
  },
  {
   "cell_type": "markdown",
   "id": "c3708150",
   "metadata": {},
   "source": [
    "Use the pick_segy function to pick reflected wave"
   ]
  },
  {
   "cell_type": "code",
   "execution_count": null,
   "id": "151f89c0",
   "metadata": {},
   "outputs": [],
   "source": [
    "## Pick reflected wave\n",
    "startTime = 0.0\n",
    "endTime = 1.0\n",
    "rw_trc_nums, rw_picks, rw_offsets = pick_segy(half_offset, normalizeTraces=True, normalizeGlobal=False, scale=1, \n",
    "                                          title=None, tstart=startTime, tend=endTime, \n",
    "                                          saveFigure=False)"
   ]
  },
  {
   "cell_type": "markdown",
   "id": "7d60acd1",
   "metadata": {},
   "source": [
    "Plot reflected wave picks on the half-offset gathers"
   ]
  },
  {
   "cell_type": "code",
   "execution_count": null,
   "id": "2e69afcc",
   "metadata": {},
   "outputs": [],
   "source": [
    "## Plot picks\n",
    "%matplotlib inline\n",
    "plot_segy_picks(half_offset_gained, normalizeTraces=True, normalizeGlobal=False, scale=1, title=None, \n",
    "                tstart=0, tend=1, picksX=rw_trc_nums, picksY=rw_picks, saveFigure=False)"
   ]
  },
  {
   "cell_type": "code",
   "execution_count": null,
   "id": "bfcafcdd",
   "metadata": {},
   "outputs": [],
   "source": [
    "%matplotlib inline\n",
    "fig, axs = plt.subplots(figsize=(4,9))\n",
    "plt.axis('off')\n",
    "ax = fig.add_subplot('111')\n",
    "\n",
    "ax.plot(dw_offsets, dw_picks, 'rx', lw=1.0, zorder=1, label='Direct wave pick')\n",
    "ax.plot(dw_offsets, poly1d_fn(dw_offsets), '--k', lw=2.0, zorder=2, alpha=0.3)\n",
    "ax.plot(rw_offsets, rw_picks, 'bx', lw=1.0, zorder=3, label='Reflected wave pick')\n",
    "\n",
    "ax.set_xlabel('Distance (m)', fontsize=15)\n",
    "ax.set_ylabel('TWTT (s)', fontsize=15)\n",
    "#ax.text(offsets[round(len(offsets)/2)], time_picks[round(len(time_picks)/2)], str(round(1/m,2))+' m/s', fontsize=15)\n",
    "plt.title('T-X plot', fontsize=20)\n",
    "plt.legend()\n",
    "#plt.gca().invert_yaxis()\n",
    "plt.show()"
   ]
  },
  {
   "cell_type": "markdown",
   "id": "69d145a3",
   "metadata": {},
   "source": [
    "Create a $T^{2}$-$X^{2}$ plot of reflected picks."
   ]
  },
  {
   "cell_type": "code",
   "execution_count": null,
   "id": "4f0c518a",
   "metadata": {},
   "outputs": [],
   "source": [
    "t_squared = np.square(rw_picks)\n",
    "x_squared = np.square(rw_offsets)\n",
    "#m, b = np.polyfit(offsets, time_picks,1)\n",
    "rw_coeffs = np.polyfit(x_squared, t_squared, 1)\n",
    "# Create the poly1d_fn function which takes in x and returns an estimate for y\n",
    "rw_poly1d_fn = np.poly1d(rw_coeffs)\n",
    "\n",
    "%matplotlib inline\n",
    "fig, axs = plt.subplots(figsize=(4,9))\n",
    "plt.axis('off')\n",
    "ax = fig.add_subplot('111')\n",
    "ax.plot(x_squared, t_squared, 'bx', lw=1.0, zorder=1)\n",
    "ax.plot(x_squared, rw_poly1d_fn(x_squared), '--k', lw=2.0, zorder=2, alpha=0.3)\n",
    "ax.set_xlabel('$X^{2}$ ($m^{2}$)', fontsize=15)\n",
    "ax.set_ylabel('$T^{2}$ ($s^{2}$)', fontsize=15)\n",
    "plt.title('$T^{2}$-$X^{2}$ plot', fontsize=20)\n",
    "plt.show()"
   ]
  },
  {
   "cell_type": "code",
   "execution_count": null,
   "id": "97113880",
   "metadata": {},
   "outputs": [],
   "source": [
    "# y = mx + b\n",
    "# y = slope*x + y-intercept\n",
    "m, b = np.polyfit(x_squared, t_squared, 1)\n",
    "stackVel = np.sqrt(1/m)\n",
    "print('Stacking velocity = ' + str(round(stackVel, 2)) + ' m/s')"
   ]
  },
  {
   "cell_type": "markdown",
   "id": "e8b9c8f4",
   "metadata": {},
   "source": [
    "---\n",
    "### References\n",
    "* Chen, Y., Jiao, S., Ma, J., Chen, H., Zhou, Y., & Gan, S. (2015). Ground-roll noise attenuation using a simple and effective approach based on local band-limited orthogonalization. IEEE Geoscience and Remote Sensing Letters, 12(11), 2316-2320.\n",
    "\n",
    "\n",
    "* Shearer, P. M. (2009). Introduction to Seismology. Cambridge University Press.\n",
    "\n",
    "\n",
    "* Yarham, C., Boeniger, U., & Herrmann, F. (2006, October). Curvelet-based ground roll removal. In 2006 SEG Annual Meeting. OnePetro.\n",
    "\n",
    "\n",
    "* Yilmaz, Ö. (2001). Seismic data analysis: Processing, inversion, and interpretation of seismic data, Third Ed., S. M. Doherty (Editor), Vol. I, Society of Exploration Geophysicists, Tulsa, Oklahoma.\n",
    "\n",
    "\n",
    "* Zhou, Hua-Wei. Practical seismic data analysis. Cambridge University Press.\n"
   ]
  },
  {
   "cell_type": "code",
   "execution_count": null,
   "id": "b64cc984",
   "metadata": {},
   "outputs": [],
   "source": []
  }
 ],
 "metadata": {
  "kernelspec": {
   "display_name": "Python 3 (ipykernel)",
   "language": "python",
   "name": "python3"
  },
  "language_info": {
   "codemirror_mode": {
    "name": "ipython",
    "version": 3
   },
   "file_extension": ".py",
   "mimetype": "text/x-python",
   "name": "python",
   "nbconvert_exporter": "python",
   "pygments_lexer": "ipython3",
   "version": "3.9.12"
  }
 },
 "nbformat": 4,
 "nbformat_minor": 5
}
